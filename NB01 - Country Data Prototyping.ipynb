{
 "cells": [
  {
   "cell_type": "markdown",
   "metadata": {},
   "source": [
    "**OBJECTIVE:** Document my thought process as I develop the function for the `/v1/country-data/` endpoint"
   ]
  },
  {
   "cell_type": "code",
   "execution_count": 1,
   "metadata": {},
   "outputs": [],
   "source": [
    "import pandas as pd"
   ]
  },
  {
   "cell_type": "markdown",
   "metadata": {},
   "source": [
    "# Read the Data"
   ]
  },
  {
   "cell_type": "code",
   "execution_count": null,
   "metadata": {},
   "outputs": [],
   "source": [
    "df_assessments = pd.read_excel(\"./data/TPI ASCOR data - 13012025/ASCOR_assessments_results.xlsx\")\n",
    "df_assessments['Assessment date'] = pd.to_datetime(df_assessments['Assessment date'])\n",
    "df_assessments['Publication date'] = pd.to_datetime(df_assessments['Publication date'])"
   ]
  },
  {
   "cell_type": "markdown",
   "metadata": {},
   "source": [
    "## Test how to filter the df:"
   ]
  },
  {
   "cell_type": "code",
   "execution_count": null,
   "metadata": {},
   "outputs": [],
   "source": [
    "\n",
    "\n",
    "selected_row = (\n",
    "    (df_assessments[\"Country\"] == country) &\n",
    "    (df_assessments['Assessment date'].dt.year == assessment_year)\n",
    ")"
   ]
  },
  {
   "cell_type": "code",
   "execution_count": null,
   "metadata": {},
   "outputs": [],
   "source": [
    "country = 'United Kingdom'\n",
    "assessment_year = 2023\n",
    "\n",
    "# This returns a pd.Series of Trues and Falses\n",
    "selected_country = df_assessments[\"Country\"] == country\n",
    "selected_year    = df_assessments['Assessment date'].dt.year == assessment_year\n",
    "\n",
    "\n",
    "df_assessments[selected_country & selected_year]"
   ]
  },
  {
   "cell_type": "markdown",
   "metadata": {},
   "source": [
    "# The function I am designing "
   ]
  },
  {
   "cell_type": "code",
   "execution_count": 6,
   "metadata": {},
   "outputs": [],
   "source": [
    "def get_country_data(country: str, assessment_year: int):\n",
    "\n",
    "    selected_row = (\n",
    "        (df_assessments[\"Country\"] == country) &\n",
    "        (df_assessments['Assessment date'].dt.year == assessment_year)\n",
    "    )\n",
    "\n",
    "    # Filter the data\n",
    "    data = df_assessments[selected_row]\n",
    "\n",
    "    # Selected and filter columns\n",
    "    area_columns = [col for col in df_assessments.columns if col.startswith(\"area\")]\n",
    "    data = data[area_columns]\n",
    "    \n",
    "    # JSON does not allow for NaN or NULL. \n",
    "    # The equivalent is just to leave an empty string instead\n",
    "    data = data.fillna('')\n",
    "\n",
    "    #Rename columns\n",
    "    data['country'] = country\n",
    "    data['assessment_year'] = assessment_year\n",
    "\n",
    "    remap_area_column_names = {\n",
    "        col: col.replace('area ', '')\n",
    "        for col in area_columns\n",
    "    }\n",
    "\n",
    "    data = data.rename(columns=remap_area_column_names)\n",
    "\n",
    "    # Grab just the first element (there should only be one anyway)\n",
    "    # and return it as a dictionary\n",
    "    return data.iloc[0].to_dict()"
   ]
  },
  {
   "cell_type": "markdown",
   "metadata": {},
   "source": [
    "Test how the function behaves:"
   ]
  },
  {
   "cell_type": "code",
   "execution_count": null,
   "metadata": {},
   "outputs": [],
   "source": [
    "get_country_data('Italy', 2024)"
   ]
  },
  {
   "cell_type": "markdown",
   "metadata": {},
   "source": [
    "# Testing out Pydantic Models"
   ]
  },
  {
   "cell_type": "code",
   "execution_count": 17,
   "metadata": {},
   "outputs": [],
   "source": [
    "from pydantic import BaseModel\n",
    "\n",
    "class CountryData(BaseModel):\n",
    "    country: str\n",
    "    assesment_year: int"
   ]
  },
  {
   "cell_type": "markdown",
   "metadata": {},
   "source": [
    "In the end, we want our API to produce an **instance** of the CountryData object like this:"
   ]
  },
  {
   "cell_type": "code",
   "execution_count": null,
   "metadata": {},
   "outputs": [],
   "source": [
    "output = CountryData(country=\"United Kingdom\", assesment_year=2024)\n",
    "\n",
    "output"
   ]
  },
  {
   "cell_type": "markdown",
   "metadata": {},
   "source": [
    "In reality, all I have (usually) is a dictionary or a list that looks like this:"
   ]
  },
  {
   "cell_type": "code",
   "execution_count": null,
   "metadata": {},
   "outputs": [],
   "source": [
    "output_dict = {\"country\": \"United Kingdom\", \"assesment_year\":2024}\n",
    "\n",
    "output_dict"
   ]
  },
  {
   "cell_type": "markdown",
   "metadata": {},
   "source": [
    "The ** operator allows to pass a dictionary to a class or a function so that each key becomes a parameter/argument: "
   ]
  },
  {
   "cell_type": "code",
   "execution_count": null,
   "metadata": {},
   "outputs": [],
   "source": [
    "CountryData(**output_dict)"
   ]
  },
  {
   "cell_type": "markdown",
   "metadata": {},
   "source": [
    "# Start working on the deeply hierarchical structure\n",
    "\n",
    "Eventually, I want to serve data like this:\n",
    "\n",
    "```json\n",
    "{\n",
    "    \"pillars\": [\n",
    "    {\n",
    "        \"name\": \"EP\",\n",
    "        \"areas\": [\n",
    "            {\n",
    "                \"name\": \"EP.1\",\n",
    "                \"assessment\": \"Partial\",\n",
    "                \"indicators\": [\n",
    "                    {\n",
    "                        \"name\": \"EP.1.a\",\n",
    "                        \"assessment\": \"Yes\",\n",
    "                        \"metrics\": \"\"\n",
    "                    },\n",
    "                    ...\n",
    "                    {\n",
    "                        \"name\": \"EP.2.1\",\n",
    "                        \"assessment\": \"Yes\",\n",
    "                        \"metrics\": {\n",
    "                            \"name\": \"EP.2.a.1\",\n",
    "                            \"value\": \"-25%\"\n",
    "                        }\n",
    "                    }\n",
    "                ]\n",
    "            }\n",
    "        ]\n",
    "    },\n",
    "    {\n",
    "        \"name\": \"CP\",\n",
    "        \"areas\": [\n",
    "            {\n",
    "                \"name\": \"CP.1\",\n",
    "                \"assessment\": \"Partial\",\n",
    "                \"indicators\": [\n",
    "                    ...\n",
    "                ]\n",
    "            },\n",
    "            {\n",
    "                ...\n",
    "            }\n",
    "        ]\n",
    "    },\n",
    "    {\n",
    "        \"name\": \"CF\",\n",
    "        \"areas\": [\n",
    "            {\n",
    "                \"name\": \"CF.1\",\n",
    "                \"assessment\": \"Partial\",\n",
    "                \"indicators\": [\n",
    "                    ...\n",
    "                ]\n",
    "            },\n",
    "            {\n",
    "                ...\n",
    "            }\n",
    "        ]\n",
    "    }\n",
    "    ]\n",
    "}\n",
    "```\n"
   ]
  },
  {
   "cell_type": "markdown",
   "metadata": {},
   "source": [
    "## Focus on just the Metrics part"
   ]
  },
  {
   "cell_type": "code",
   "execution_count": 11,
   "metadata": {},
   "outputs": [],
   "source": [
    "# This is the data model for Metrics\n",
    "class Metric(BaseModel):\n",
    "    name: str\n",
    "    value: str"
   ]
  },
  {
   "cell_type": "markdown",
   "metadata": {},
   "source": [
    "Before I actually write the code to the API, let me see how I'd have to filter the dataframe:"
   ]
  },
  {
   "cell_type": "code",
   "execution_count": null,
   "metadata": {},
   "outputs": [],
   "source": [
    "# Filter for just the metrics columns\n",
    "selected_columns = [col for col in df_assessments.columns if col.startswith('metric')]\n",
    "selected_columns"
   ]
  },
  {
   "cell_type": "markdown",
   "metadata": {},
   "source": [
    "Filter the data point to include only those columns:"
   ]
  },
  {
   "cell_type": "code",
   "execution_count": null,
   "metadata": {},
   "outputs": [],
   "source": [
    "# Get a random data point\n",
    "data = df_assessments.iloc[0]\n",
    "\n",
    "data[selected_columns]"
   ]
  },
  {
   "cell_type": "markdown",
   "metadata": {},
   "source": [
    "How would the Metric object be constructed?"
   ]
  },
  {
   "cell_type": "code",
   "execution_count": null,
   "metadata": {},
   "outputs": [],
   "source": [
    "Metric(name=\"metric EP.2.a.i\", value=\"-25%\")"
   ]
  },
  {
   "cell_type": "code",
   "execution_count": null,
   "metadata": {},
   "outputs": [],
   "source": [
    "data_as_dict = data[selected_columns].to_dict()\n",
    "\n",
    "list_metrics = []\n",
    "for name, value in data_as_dict.items():\n",
    "    individual_metric = Metric(name=name, value=value)\n",
    "    list_metrics.append(individual_metric)\n",
    "\n",
    "list_metrics"
   ]
  },
  {
   "cell_type": "markdown",
   "metadata": {},
   "source": [
    "## Test the whole new function "
   ]
  },
  {
   "cell_type": "code",
   "execution_count": 48,
   "metadata": {},
   "outputs": [],
   "source": [
    "def get_country_metrics(country: str, assessment_year: int):\n",
    "\n",
    "    selected_row = (\n",
    "        (df_assessments[\"Country\"] == country) &\n",
    "        (df_assessments['Assessment date'].dt.year == assessment_year)\n",
    "    )\n",
    "\n",
    "    # Filter the data\n",
    "    data = df_assessments[selected_row]\n",
    "\n",
    "    if data.empty:\n",
    "        raise HTTPException(status_code=404, \n",
    "                            detail=f\"There is no data for country: {country} and year: {assessment_year}\")\n",
    "\n",
    "    # Select just the metrics\n",
    "    metric_columns = [col for col in df_assessments.columns \n",
    "                      if col.startswith('metric')]\n",
    "    data = data[metric_columns]\n",
    "\n",
    "    # JSON does not allow for NaN or NULL. \n",
    "    # The equivalent is just to leave an empty string instead\n",
    "    data = data.fillna('')\n",
    "\n",
    "    remap_area_column_names = {\n",
    "        col: col.replace('metric ', '')\n",
    "        for col in metric_columns\n",
    "    }\n",
    "\n",
    "    data = data.rename(columns=remap_area_column_names)\n",
    "\n",
    "    data_as_dict = data.iloc[0].to_dict()\n",
    "\n",
    "    list_metrics = []\n",
    "    for name, value in data_as_dict.items():\n",
    "        individual_metric = Metric(name=name, value=value)\n",
    "        list_metrics.append(individual_metric)\n",
    "    # Grab just the first element (there should only be one anyway)\n",
    "    # and return it as a dictionary\n",
    "    return list_metrics\n"
   ]
  },
  {
   "cell_type": "code",
   "execution_count": null,
   "metadata": {},
   "outputs": [],
   "source": [
    "get_country_metrics('Italy', 2024)"
   ]
  },
  {
   "cell_type": "code",
   "execution_count": null,
   "metadata": {},
   "outputs": [],
   "source": []
  },
  {
   "cell_type": "markdown",
   "metadata": {},
   "source": [
    "## How to group together metrics with their relevant indicators?"
   ]
  },
  {
   "cell_type": "code",
   "execution_count": null,
   "metadata": {},
   "outputs": [],
   "source": [
    "selected_row = (\n",
    "        (df_assessments[\"Country\"] == country) &\n",
    "        (df_assessments['Assessment date'].dt.year == assessment_year)\n",
    "    )\n",
    "\n",
    "# Filter the data\n",
    "data = df_assessments[selected_row]\n",
    "data\n"
   ]
  },
  {
   "cell_type": "code",
   "execution_count": null,
   "metadata": {},
   "outputs": [],
   "source": [
    "indicator_columns = data.loc[:, data.columns.str.startswith('indicator')]\n",
    "indicator_columns"
   ]
  },
  {
   "cell_type": "code",
   "execution_count": null,
   "metadata": {},
   "outputs": [],
   "source": [
    "metric_columns = data.loc[:, data.columns.str.startswith('metric')]\n",
    "metric_columns"
   ]
  },
  {
   "cell_type": "code",
   "execution_count": null,
   "metadata": {},
   "outputs": [],
   "source": [
    "EP = {col: data[col] for col in data.index if col.startswith(\"EP\")}\n",
    "CP = {col: data[col] for col in data.index if col.startswith(\"CP\")}\n",
    "CF = {col: data[col] for col in data.index if col.startswith(\"CF\")}"
   ]
  },
  {
   "cell_type": "code",
   "execution_count": 18,
   "metadata": {},
   "outputs": [],
   "source": [
    "from typing import List, Optional\n",
    "from pydantic import BaseModel\n",
    "\n",
    "class CountryData(BaseModel):\n",
    "    country: str\n",
    "    assessment_year: int\n",
    "    EP_1: str \n",
    "    EP_2: str\n",
    "    EP_3: str\n",
    "    CP_1: str\n",
    "    CP_2: str\n",
    "    CP_3: str\n",
    "    CP_4: str\n",
    "    CP_5: str\n",
    "    CP_6: str\n",
    "    CF_1: str\n",
    "    CF_2: str\n",
    "    CF_3: str\n",
    "    CF_4: str\n",
    "\n",
    "\n",
    "class Metric(BaseModel):\n",
    "    name: str\n",
    "    value: Optional[str]=None\n",
    "\n",
    "\n",
    "class Indicator(BaseModel):\n",
    "    name: str\n",
    "    assessment: Optional[str]=None\n",
    "    metrics: Optional[List[Metric]]=None\n",
    "    source: Optional[str]=None\n",
    "\n",
    "class Area(BaseModel):\n",
    "    name: str\n",
    "    assessment: Optional[str]=None\n",
    "    indicators: List[Indicator] = []\n",
    "\n",
    "class Pillar(BaseModel):\n",
    "    name: str\n",
    "    area: List[Area] =[]\n",
    "\n",
    "class Metadata(BaseModel):\n",
    "    metadata: str\n",
    "    assessment_year: int\n",
    "\n",
    "class ResponseData(BaseModel):\n",
    "    metadata: Metadata\n",
    "    pillars: List[Pillar]=[]\n",
    "\n",
    "class ErrorResponse(BaseModel):\n",
    "    message: str\n",
    "    details: dict={}"
   ]
  },
  {
   "cell_type": "code",
   "execution_count": 23,
   "metadata": {},
   "outputs": [],
   "source": [
    "def get_country_metrics(country: str, assessment_year: int):\n",
    "    selected_row = (\n",
    "        (df_assessments[\"Country\"] == country) &\n",
    "        (df_assessments['Assessment date'].dt.year == assessment_year)\n",
    "    )\n",
    "\n",
    "    # Filter the data\n",
    "    data = df_assessments[selected_row]\n",
    "\n",
    "    if data.empty:\n",
    "        raise HTTPException(status_code=404, \n",
    "                            detail=f\"There is no data for country: {country} and year: {assessment_year}\")\n",
    "\n",
    "    row = data.iloc[0]\n",
    "    pillars = []\n",
    "    for pillar_name in [\"EP\", \"CP\", \"CF\"]:  # Dynamically process pillar names\n",
    "        areas = []\n",
    "        for col_name in row.index:  # Iterate through the columns of the selected row\n",
    "            if col_name.startswith(f\"area {pillar_name}\"):  # Match area columns (e.g., \"area EP.1\")\n",
    "                area_name = col_name.split(\" \")[1]  # Extract area name (e.g., \"EP.1\")\n",
    "                assessment = assessment = row[col_name] if pd.notna(row[col_name]) else None  # Handle NaN values\n",
    "                indicators = []\n",
    "\n",
    "                # Match indicators related to the area\n",
    "                for indicator_col in row.index:\n",
    "                    if indicator_col.startswith(f\"indicator {area_name}\"):\n",
    "                        indicator_name = indicator_col.split(\" \")[1]  # Extract indicator name (e.g., \"EP.1.a\")\n",
    "                        assessment = row[indicator_col]\n",
    "                        metrics = []\n",
    "\n",
    "                        # Match metrics related to the indicator\n",
    "                        for metric_col in row.index:\n",
    "                            if metric_col.startswith(f\"metric {indicator_name}\"):\n",
    "                                metric_name = metric_col.split(\" \")[1]  # Extract metric name (e.g., \"EP.1.a.1\")\n",
    "                                value = row[metric_col]\n",
    "                                metrics.append(Metric(name=metric_name, value=value))\n",
    "                        \n",
    "                        # Add the indicator\n",
    "                        indicators.append(Indicator(name=indicator_name, assessment=assessment, metrics=metrics))\n",
    "                \n",
    "                # Add the area\n",
    "                areas.append(Area(name=area_name, assessment=assessment, indicators=indicators))\n",
    "        \n",
    "        pillars.append(Pillar(name=pillar_name, area=areas))\n",
    "    \n",
    "    # Create metadata\n",
    "    metadata = Metadata(\n",
    "        metadata=\"Country metrics data\",\n",
    "        assessment_year=assessment_year\n",
    "    )\n",
    "    \n",
    "    # Return the response\n",
    "    return ResponseData(metadata=metadata, pillars=pillars)"
   ]
  },
  {
   "cell_type": "code",
   "execution_count": null,
   "metadata": {},
   "outputs": [],
   "source": [
    "get_country_metrics('Italy', 2024)"
   ]
  },
  {
   "cell_type": "code",
   "execution_count": null,
   "metadata": {},
   "outputs": [],
   "source": [
    "row = data.iloc[0]\n",
    "areas = []\n",
    "for pillar_name in [\"EP\", \"CP\", \"CF\"]:  # Dynamically process pillar names\n",
    "        for col_name in row.index:  # Iterate through the columns of the selected row\n",
    "            if col_name.startswith(f\"area {pillar_name}\"):  # Match area columns (e.g., \"area EP.1\")\n",
    "                area_name = col_name.split(\" \")[1]  # Extract area name (e.g., \"EP.1\")\n",
    "                assessment = row[col_name]   # Handle NaN value\n",
    "                areas.append((area_name, assessment))\n",
    "\n",
    "areas"
   ]
  },
  {
   "cell_type": "code",
   "execution_count": null,
   "metadata": {},
   "outputs": [],
   "source": [
    "area_columns = data.loc[:, data.columns.str.startswith('area')]\n",
    "area_columns"
   ]
  },
  {
   "cell_type": "code",
   "execution_count": 68,
   "metadata": {},
   "outputs": [
    {
     "data": {
      "text/plain": [
       "[Pillar(name='EP', area=[Area(name='EP.1', assessment='No', indicators=[Indicator(name='EP.1.a', assessment='Yes', metrics=[], source=None), Indicator(name='EP.1.b', assessment='No', metrics=[], source=None), Indicator(name='EP.1.c', assessment='No', metrics=[], source=None)]), Area(name='EP.2', assessment='No', indicators=[Indicator(name='EP.2.a', assessment='Yes', metrics=[Metric(name='EP.2.a.i', value=\"'-42%\")], source=None), Indicator(name='EP.2.b', assessment='No', metrics=[Metric(name='EP.2.b.i', value='No or unsuitable disclosure')], source=None), Indicator(name='EP.2.c', assessment='No', metrics=[Metric(name='EP.2.c.i', value='37%')], source=None), Indicator(name='EP.2.d', assessment='No', metrics=[Metric(name='EP.2.d.i', value='162%')], source=None)]), Area(name='EP.3', assessment='No', indicators=[Indicator(name='EP.3.a', assessment='Yes', metrics=[Metric(name='EP.3.a.i', value='2050')], source=None), Indicator(name='EP.3.b', assessment='Yes', metrics=[], source=None), Indicator(name='EP.3.c', assessment='No', metrics=[], source=None)])]),\n",
       " Pillar(name='CP', area=[Area(name='CP.1', assessment='Yes', indicators=[Indicator(name='CP.1.a', assessment='Yes', metrics=[], source=None), Indicator(name='CP.1.b', assessment='Yes', metrics=[], source=None)]), Area(name='CP.2', assessment='Yes', indicators=[Indicator(name='CP.2.a', assessment='Yes', metrics=[], source=None), Indicator(name='CP.2.b', assessment='No', metrics=[Metric(name='CP.2.b.i', value='28%')], source=None), Indicator(name='CP.2.c', assessment='Yes', metrics=[Metric(name='CP.2.c.i', value='US$ 92.96/tCO₂e')], source=None)]), Area(name='CP.3', assessment='No', indicators=[Indicator(name='CP.3.a', assessment='No', metrics=[Metric(name='CP.3.a.i', value='No or unsuitable disclosure')], source=None), Indicator(name='CP.3.b', assessment='No', metrics=[Metric(name='CP.3.b.i', value='0.49%')], source=None), Indicator(name='CP.3.c', assessment='No', metrics=[Metric(name='CP.3.c.i', value='0.00%')], source=None), Indicator(name='CP.3.d', assessment='No', metrics=[Metric(name='CP.3.d.i', value='0.42%'), Metric(name='CP.3.d.ii', value='0.17%')], source=None)]), Area(name='CP.4', assessment='No', indicators=[Indicator(name='CP.4.a', assessment='Yes', metrics=[], source=None), Indicator(name='CP.4.b', assessment='No', metrics=[Metric(name='CP.4.b.i', value='2.23 MJ/US$ PPP-adjusted GDP')], source=None), Indicator(name='CP.4.c', assessment='Yes', metrics=[], source=None), Indicator(name='CP.4.d', assessment='Yes', metrics=[Metric(name='CP.4.d.i', value='57%')], source=None), Indicator(name='CP.4.e', assessment='No', metrics=[Metric(name='CP.4.e.i', value='28%')], source=None)]), Area(name='CP.5', assessment='Exempt', indicators=[Indicator(name='CP.5.a', assessment='Yes', metrics=[], source=None), Indicator(name='CP.5.b', assessment='Yes', metrics=[], source=None), Indicator(name='CP.5.c', assessment='Yes', metrics=[], source=None), Indicator(name='CP.5.d', assessment='Yes', metrics=[], source=None), Indicator(name='CP.5.e', assessment='Exempt', metrics=[], source=None)]), Area(name='CP.6', assessment='No', indicators=[Indicator(name='CP.6.a', assessment='Yes', metrics=[Metric(name='CP.6.a.i', value='0.93')], source=None), Indicator(name='CP.6.b', assessment='No', metrics=[], source=None), Indicator(name='CP.6.c', assessment='Yes', metrics=[], source=None), Indicator(name='CP.6.d', assessment='No', metrics=[], source=None)])]),\n",
       " Pillar(name='CF', area=[Area(name='CF.1', assessment='Yes', indicators=[Indicator(name='CF.1.a', assessment='No', metrics=[Metric(name='CF.1.a.i', value='0.01%')], source=None), Indicator(name='CF.1.b', assessment='Yes', metrics=[Metric(name='CF.1.b.i', value='0.08%')], source=None)]), Area(name='CF.2', assessment='Exempt', indicators=[Indicator(name='CF.2.a', assessment='Exempt', metrics=[], source=None), Indicator(name='CF.2.b', assessment='Exempt', metrics=[], source=None)]), Area(name='CF.3', assessment='Yes', indicators=[Indicator(name='CF.3.a', assessment='Yes', metrics=[], source=None), Indicator(name='CF.3.b', assessment='Yes', metrics=[], source=None)]), Area(name='CF.4', assessment='Not applicable', indicators=[])])]"
      ]
     },
     "execution_count": 68,
     "metadata": {},
     "output_type": "execute_result"
    }
   ],
   "source": [
    "row = data.iloc[0]\n",
    "pillars = []\n",
    "for pillar_name in [\"EP\", \"CP\", \"CF\"]:  # Dynamically process pillar names\n",
    "    areas = []\n",
    "    for col_name in row.index:  # Iterate through the columns of the selected row\n",
    "        if col_name.startswith(f\"area {pillar_name}\"):  # Match area columns (e.g., \"area EP.1\")\n",
    "            area_name = col_name.split(\" \")[1]  # Extract area name (e.g., \"EP.1\")\n",
    "            assessment = assessment = row[col_name] if pd.notna(row[col_name]) else None  # Handle NaN values\n",
    "            indicators = []\n",
    "\n",
    "            # Match indicators related to the area\n",
    "            for indicator_col in row.index:\n",
    "                if indicator_col.startswith(f\"indicator {area_name}\"):\n",
    "                    indicator_name = indicator_col.split(\" \")[1]  # Extract indicator name (e.g., \"EP.1.a\")\n",
    "                    assessment = row[indicator_col]\n",
    "                    metrics = []\n",
    "\n",
    "                    # Match metrics related to the indicator\n",
    "                    for metric_col in row.index:\n",
    "                        if metric_col.startswith(f\"metric {indicator_name}\"):\n",
    "                            metric_name = metric_col.split(\" \")[1]  # Extract metric name (e.g., \"EP.1.a.1\")\n",
    "                            value = row[metric_col]\n",
    "                            metrics.append(Metric(name=metric_name, value=value))\n",
    "                        \n",
    "                    # Add the indicator\n",
    "                    indicators.append(Indicator(name=indicator_name, assessment=assessment, metrics=metrics))\n",
    "                \n",
    "            # Add the area\n",
    "            areas.append(Area(name=area_name, assessment=assessment, indicators=indicators))\n",
    "\n",
    "        \n",
    "    pillars.append(Pillar(name=pillar_name, area=areas))\n",
    "\n",
    "pillars"
   ]
  },
  {
   "cell_type": "code",
   "execution_count": null,
   "metadata": {},
   "outputs": [],
   "source": [
    "def get_country_metrics(country: str, assessment_year: int):\n",
    "    selected_row = (\n",
    "        (df_assessments[\"Country\"] == country) &\n",
    "        (df_assessments['Assessment date'].dt.year == assessment_year)\n",
    "    )\n",
    "\n",
    "    # Filter the data\n",
    "    data = df_assessments[selected_row]\n",
    "\n",
    "    if data.empty:\n",
    "        raise HTTPException(status_code=404, \n",
    "                            detail=f\"There is no data for country: {country} and year: {assessment_year}\")\n",
    "\n",
    "    row = data.iloc[0]\n",
    "    pillars = []\n",
    "    for pillar_name in [\"EP\", \"CP\", \"CF\"]:  # Dynamically process pillar names\n",
    "        areas = []\n",
    "        for col_name in row.index:  # Iterate through the columns of the selected row\n",
    "            if col_name.startswith(f\"area {pillar_name}\"):  # Match area columns (e.g., \"area EP.1\")\n",
    "                area_name = col_name.split(\" \")[1]  # Extract area name (e.g., \"EP.1\")\n",
    "                assessment = assessment = row[col_name] if pd.notna(row[col_name]) else None  # Handle NaN values\n",
    "                indicators = []\n",
    "\n",
    "                # Match indicators related to the area\n",
    "                for indicator_col in row.index:\n",
    "                    if indicator_col.startswith(f\"indicator {area_name}\"):\n",
    "                        indicator_name = indicator_col.split(\" \")[1]  # Extract indicator name (e.g., \"EP.1.a\")\n",
    "                        assessment = row[indicator_col]\n",
    "                        metrics = []\n",
    "\n",
    "                        # Match metrics related to the indicator\n",
    "                        for metric_col in row.index:\n",
    "                            if metric_col.startswith(f\"metric {indicator_name}\"):\n",
    "                                metric_name = metric_col.split(\" \")[1]  # Extract metric name (e.g., \"EP.1.a.1\")\n",
    "                                value = row[metric_col]\n",
    "                                metrics.append(Metric(name=metric_name, value=value))\n",
    "                        \n",
    "                        # Add the indicator\n",
    "                        indicators.append(Indicator(name=indicator_name, assessment=assessment, metrics=metrics))\n",
    "                \n",
    "                # Add the area\n",
    "                areas.append(Area(name=area_name, assessment=assessment, indicators=indicators))\n",
    "        \n",
    "        pillars.append(Pillar(name=pillar_name, area=areas))\n",
    "    \n",
    "    # Create metadata\n",
    "    metadata = Metadata(\n",
    "        metadata=\"Country metrics data\",\n",
    "        assessment_year=assessment_year\n",
    "    )\n",
    "    \n",
    "    # Return the response\n",
    "    return ResponseData(metadata=metadata, pillars=pillars)\n",
    "\n",
    "get_country_metrics(\"Italy\", assessment_year: int)"
   ]
  }
 ],
 "metadata": {
  "kernelspec": {
   "display_name": "base",
   "language": "python",
   "name": "python3"
  },
  "language_info": {
   "codemirror_mode": {
    "name": "ipython",
    "version": 3
   },
   "file_extension": ".py",
   "mimetype": "text/x-python",
   "name": "python",
   "nbconvert_exporter": "python",
   "pygments_lexer": "ipython3",
   "version": "3.12.8"
  }
 },
 "nbformat": 4,
 "nbformat_minor": 2
}
