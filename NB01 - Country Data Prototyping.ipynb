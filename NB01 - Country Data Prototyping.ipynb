{
 "cells": [
  {
   "cell_type": "markdown",
   "metadata": {},
   "source": [
    "**OBJECTIVE:** Document my thought process as I develop the function for the `/v1/country-data/` endpoint"
   ]
  },
  {
   "cell_type": "code",
   "execution_count": 1,
   "metadata": {},
   "outputs": [],
   "source": [
    "import pandas as pd"
   ]
  },
  {
   "cell_type": "markdown",
   "metadata": {},
   "source": [
    "# Read the Data"
   ]
  },
  {
   "cell_type": "code",
   "execution_count": 2,
   "metadata": {},
   "outputs": [
    {
     "name": "stderr",
     "output_type": "stream",
     "text": [
      "/tmp/ipykernel_2271/689650668.py:2: UserWarning: Parsing dates in %d/%m/%Y format when dayfirst=False (the default) was specified. Pass `dayfirst=True` or specify a format to silence this warning.\n",
      "  df_assessments['Assessment date'] = pd.to_datetime(df_assessments['Assessment date'])\n"
     ]
    }
   ],
   "source": [
    "df_assessments = pd.read_excel(\"./data/TPI ASCOR data - 13012025/ASCOR_assessments_results.xlsx\")\n",
    "df_assessments['Assessment date'] = pd.to_datetime(df_assessments['Assessment date'])\n",
    "df_assessments['Publication date'] = pd.to_datetime(df_assessments['Publication date'])"
   ]
  },
  {
   "cell_type": "markdown",
   "metadata": {},
   "source": [
    "## Test how to filter the df:"
   ]
  },
  {
   "cell_type": "code",
   "execution_count": null,
   "metadata": {},
   "outputs": [],
   "source": [
    "\n",
    "\n",
    "selected_row = (\n",
    "    (df_assessments[\"Country\"] == country) &\n",
    "    (df_assessments['Assessment date'].dt.year == assessment_year)\n",
    ")"
   ]
  },
  {
   "cell_type": "code",
   "execution_count": 18,
   "metadata": {},
   "outputs": [
    {
     "data": {
      "text/html": [
       "<div>\n",
       "<style scoped>\n",
       "    .dataframe tbody tr th:only-of-type {\n",
       "        vertical-align: middle;\n",
       "    }\n",
       "\n",
       "    .dataframe tbody tr th {\n",
       "        vertical-align: top;\n",
       "    }\n",
       "\n",
       "    .dataframe thead th {\n",
       "        text-align: right;\n",
       "    }\n",
       "</style>\n",
       "<table border=\"1\" class=\"dataframe\">\n",
       "  <thead>\n",
       "    <tr style=\"text-align: right;\">\n",
       "      <th></th>\n",
       "      <th>Id</th>\n",
       "      <th>Assessment date</th>\n",
       "      <th>Publication date</th>\n",
       "      <th>Country Id</th>\n",
       "      <th>Country</th>\n",
       "      <th>area EP.1</th>\n",
       "      <th>indicator EP.1.a</th>\n",
       "      <th>indicator EP.1.b</th>\n",
       "      <th>indicator EP.1.c</th>\n",
       "      <th>area EP.2</th>\n",
       "      <th>...</th>\n",
       "      <th>year metric CP.4.d.i</th>\n",
       "      <th>year metric CP.4.e.i</th>\n",
       "      <th>year metric CP.6.a.i</th>\n",
       "      <th>year metric CF.1.a.i</th>\n",
       "      <th>year metric CF.1.b.i</th>\n",
       "      <th>year metric CF.4.i</th>\n",
       "      <th>year metric CF.4.ii</th>\n",
       "      <th>year metric CF.4.iii</th>\n",
       "      <th>year metric CF.4.iv</th>\n",
       "      <th>Notes</th>\n",
       "    </tr>\n",
       "  </thead>\n",
       "  <tbody>\n",
       "    <tr>\n",
       "      <th>22</th>\n",
       "      <td>86</td>\n",
       "      <td>2023-10-31</td>\n",
       "      <td>2023-01-12</td>\n",
       "      <td>22</td>\n",
       "      <td>United Kingdom</td>\n",
       "      <td>Partial</td>\n",
       "      <td>Yes</td>\n",
       "      <td>No</td>\n",
       "      <td>No</td>\n",
       "      <td>Partial</td>\n",
       "      <td>...</td>\n",
       "      <td>2021.0</td>\n",
       "      <td>2022.0</td>\n",
       "      <td>2021</td>\n",
       "      <td>2020.0</td>\n",
       "      <td>2021.0</td>\n",
       "      <td>2023</td>\n",
       "      <td>2023</td>\n",
       "      <td>2023</td>\n",
       "      <td>2023</td>\n",
       "      <td>Assessment results are based on in-depth polic...</td>\n",
       "    </tr>\n",
       "  </tbody>\n",
       "</table>\n",
       "<p>1 rows × 167 columns</p>\n",
       "</div>"
      ],
      "text/plain": [
       "    Id Assessment date Publication date  Country Id         Country area EP.1  \\\n",
       "22  86      2023-10-31       2023-01-12          22  United Kingdom   Partial   \n",
       "\n",
       "   indicator EP.1.a indicator EP.1.b indicator EP.1.c area EP.2  ...  \\\n",
       "22              Yes               No               No   Partial  ...   \n",
       "\n",
       "   year metric CP.4.d.i year metric CP.4.e.i year metric CP.6.a.i  \\\n",
       "22               2021.0               2022.0                 2021   \n",
       "\n",
       "   year metric CF.1.a.i year metric CF.1.b.i year metric CF.4.i  \\\n",
       "22               2020.0               2021.0               2023   \n",
       "\n",
       "   year metric CF.4.ii year metric CF.4.iii year metric CF.4.iv  \\\n",
       "22                2023                 2023                2023   \n",
       "\n",
       "                                                Notes  \n",
       "22  Assessment results are based on in-depth polic...  \n",
       "\n",
       "[1 rows x 167 columns]"
      ]
     },
     "execution_count": 18,
     "metadata": {},
     "output_type": "execute_result"
    }
   ],
   "source": [
    "country = 'United Kingdom'\n",
    "assessment_year = 2023\n",
    "\n",
    "# This returns a pd.Series of Trues and Falses\n",
    "selected_country = df_assessments[\"Country\"] == country\n",
    "selected_year    = df_assessments['Assessment date'].dt.year == assessment_year\n",
    "\n",
    "\n",
    "df_assessments[selected_country & selected_year]"
   ]
  },
  {
   "cell_type": "markdown",
   "metadata": {},
   "source": [
    "# The function I am designing "
   ]
  },
  {
   "cell_type": "code",
   "execution_count": 11,
   "metadata": {},
   "outputs": [],
   "source": [
    "def get_country_data(country: str, assessment_year: int):\n",
    "\n",
    "    selected_row = (\n",
    "        (df_assessments[\"Country\"] == country) &\n",
    "        (df_assessments['Assessment date'].dt.year == assessment_year)\n",
    "    )\n",
    "\n",
    "    # Filter the data\n",
    "    data = df_assessments[selected_row]\n",
    "\n",
    "    # Selected and filter columns\n",
    "    area_columns = [col for col in df_assessments.columns if col.startswith(\"area\")]\n",
    "    data = data[area_columns]\n",
    "    \n",
    "    # JSON does not allow for NaN or NULL. \n",
    "    # The equivalent is just to leave an empty string instead\n",
    "    data = data.fillna('')\n",
    "\n",
    "    #Rename columns\n",
    "    data['country'] = country\n",
    "    data['assessment_year'] = assessment_year\n",
    "\n",
    "    remap_area_column_names = {\n",
    "        col: col.replace('area ', '')\n",
    "        for col in area_columns\n",
    "    }\n",
    "\n",
    "    data = data.rename(columns=remap_area_column_names)\n",
    "\n",
    "    # Grab just the first element (there should only be one anyway)\n",
    "    # and return it as a dictionary\n",
    "    return data.iloc[0].to_dict()"
   ]
  },
  {
   "cell_type": "markdown",
   "metadata": {},
   "source": [
    "Test how the function behaves:"
   ]
  },
  {
   "cell_type": "code",
   "execution_count": 12,
   "metadata": {},
   "outputs": [
    {
     "data": {
      "text/plain": [
       "{'EP.1': 'Partial',\n",
       " 'EP.2': 'Partial',\n",
       " 'EP.3': 'Partial',\n",
       " 'CP.1': 'No',\n",
       " 'CP.2': 'Partial',\n",
       " 'CP.3': 'Partial',\n",
       " 'CP.4': 'Partial',\n",
       " 'CP.5': 'Partial',\n",
       " 'CP.6': 'Partial',\n",
       " 'CF.1': 'No',\n",
       " 'CF.2': 'Exempt',\n",
       " 'CF.3': 'Partial',\n",
       " 'CF.4': '',\n",
       " 'country': 'Italy',\n",
       " 'assessment_year': 2024}"
      ]
     },
     "execution_count": 12,
     "metadata": {},
     "output_type": "execute_result"
    }
   ],
   "source": [
    "get_country_data('Italy', 2024)"
   ]
  },
  {
   "cell_type": "markdown",
   "metadata": {},
   "source": [
    "# Testing out Pydantic Models"
   ]
  },
  {
   "cell_type": "code",
   "execution_count": 19,
   "metadata": {},
   "outputs": [],
   "source": [
    "from pydantic import BaseModel\n",
    "\n",
    "class CountryData(BaseModel):\n",
    "    country: str\n",
    "    assesment_year: int"
   ]
  },
  {
   "cell_type": "markdown",
   "metadata": {},
   "source": [
    "In the end, we want our API to produce an **instance** of the CountryData object like this:"
   ]
  },
  {
   "cell_type": "code",
   "execution_count": 21,
   "metadata": {},
   "outputs": [
    {
     "data": {
      "text/plain": [
       "CountryData(country='United Kingdom', assesment_year=2024)"
      ]
     },
     "execution_count": 21,
     "metadata": {},
     "output_type": "execute_result"
    }
   ],
   "source": [
    "output = CountryData(country=\"United Kingdom\", assesment_year=2024)\n",
    "\n",
    "output"
   ]
  },
  {
   "cell_type": "markdown",
   "metadata": {},
   "source": [
    "In reality, all I have (usually) is a dictionary or a list that looks like this:"
   ]
  },
  {
   "cell_type": "code",
   "execution_count": 23,
   "metadata": {},
   "outputs": [
    {
     "data": {
      "text/plain": [
       "{'country': 'United Kingdom', 'assesment_year': 2024}"
      ]
     },
     "execution_count": 23,
     "metadata": {},
     "output_type": "execute_result"
    }
   ],
   "source": [
    "output_dict = {\"country\": \"United Kingdom\", \"assesment_year\":2024}\n",
    "\n",
    "output_dict"
   ]
  },
  {
   "cell_type": "markdown",
   "metadata": {},
   "source": [
    "The ** operator allows to pass a dictionary to a class or a function so that each key becomes a parameter/argument: "
   ]
  },
  {
   "cell_type": "code",
   "execution_count": 24,
   "metadata": {},
   "outputs": [
    {
     "data": {
      "text/plain": [
       "CountryData(country='United Kingdom', assesment_year=2024)"
      ]
     },
     "execution_count": 24,
     "metadata": {},
     "output_type": "execute_result"
    }
   ],
   "source": [
    "CountryData(**output_dict)"
   ]
  },
  {
   "cell_type": "markdown",
   "metadata": {},
   "source": [
    "# Start working on the deeply hierarchical structure\n",
    "\n",
    "Eventually, I want to serve data like this:\n",
    "\n",
    "```json\n",
    "{\n",
    "    \"pillars\": [\n",
    "    {\n",
    "        \"name\": \"EP\",\n",
    "        \"areas\": [\n",
    "            {\n",
    "                \"name\": \"EP.1\",\n",
    "                \"assessment\": \"Partial\",\n",
    "                \"indicators\": [\n",
    "                    {\n",
    "                        \"name\": \"EP.1.a\",\n",
    "                        \"assessment\": \"Yes\",\n",
    "                        \"metrics\": \"\"\n",
    "                    },\n",
    "                    ...\n",
    "                    {\n",
    "                        \"name\": \"EP.2.1\",\n",
    "                        \"assessment\": \"Yes\",\n",
    "                        \"metrics\": {\n",
    "                            \"name\": \"EP.2.a.1\",\n",
    "                            \"value\": \"-25%\"\n",
    "                        }\n",
    "                    }\n",
    "                ]\n",
    "            }\n",
    "        ]\n",
    "    },\n",
    "    {\n",
    "        \"name\": \"CP\",\n",
    "        \"areas\": [\n",
    "            {\n",
    "                \"name\": \"CP.1\",\n",
    "                \"assessment\": \"Partial\",\n",
    "                \"indicators\": [\n",
    "                    ...\n",
    "                ]\n",
    "            },\n",
    "            {\n",
    "                ...\n",
    "            }\n",
    "        ]\n",
    "    },\n",
    "    {\n",
    "        \"name\": \"CF\",\n",
    "        \"areas\": [\n",
    "            {\n",
    "                \"name\": \"CF.1\",\n",
    "                \"assessment\": \"Partial\",\n",
    "                \"indicators\": [\n",
    "                    ...\n",
    "                ]\n",
    "            },\n",
    "            {\n",
    "                ...\n",
    "            }\n",
    "        ]\n",
    "    }\n",
    "    ]\n",
    "}\n",
    "```\n"
   ]
  },
  {
   "cell_type": "markdown",
   "metadata": {},
   "source": [
    "## Focus on just the Metrics part"
   ]
  },
  {
   "cell_type": "code",
   "execution_count": 25,
   "metadata": {},
   "outputs": [],
   "source": [
    "# This is the data model for Metrics\n",
    "class Metric(BaseModel):\n",
    "    name: str\n",
    "    value: str"
   ]
  },
  {
   "cell_type": "markdown",
   "metadata": {},
   "source": [
    "Before I actually write the code to the API, let me see how I'd have to filter the dataframe:"
   ]
  },
  {
   "cell_type": "code",
   "execution_count": 28,
   "metadata": {},
   "outputs": [
    {
     "data": {
      "text/plain": [
       "['metric EP.2.a.i',\n",
       " 'metric EP.2.b.i',\n",
       " 'metric EP.2.c.i',\n",
       " 'metric EP.2.d.i',\n",
       " 'metric EP.3.a.i',\n",
       " 'metric CP.2.b.i',\n",
       " 'metric CP.2.c.i',\n",
       " 'metric CP.3.a.i',\n",
       " 'metric CP.3.b.i',\n",
       " 'metric CP.3.c.i',\n",
       " 'metric CP.3.d.i',\n",
       " 'metric CP.3.d.ii',\n",
       " 'metric CP.4.b.i',\n",
       " 'metric CP.4.d.i',\n",
       " 'metric CP.4.e.i',\n",
       " 'metric CP.6.a.i',\n",
       " 'metric CF.1.a.i',\n",
       " 'metric CF.1.b.i',\n",
       " 'metric CF.4.i',\n",
       " 'metric CF.4.ii',\n",
       " 'metric CF.4.iii',\n",
       " 'metric CF.4.iv']"
      ]
     },
     "execution_count": 28,
     "metadata": {},
     "output_type": "execute_result"
    }
   ],
   "source": [
    "# Filter for just the metrics columns\n",
    "selected_columns = [col for col in df_assessments.columns if col.startswith('metric')]\n",
    "selected_columns"
   ]
  },
  {
   "cell_type": "markdown",
   "metadata": {},
   "source": [
    "Filter the data point to include only those columns:"
   ]
  },
  {
   "cell_type": "code",
   "execution_count": 31,
   "metadata": {},
   "outputs": [
    {
     "data": {
      "text/plain": [
       "metric EP.2.a.i                            '-25%\n",
       "metric EP.2.b.i      No or unsuitable disclosure\n",
       "metric EP.2.c.i                              62%\n",
       "metric EP.2.d.i                             822%\n",
       "metric EP.3.a.i                             2050\n",
       "metric CP.2.b.i                              28%\n",
       "metric CP.2.c.i                  US$ 10.64/tCO₂e\n",
       "metric CP.3.a.i      No or unsuitable disclosure\n",
       "metric CP.3.b.i                            0.34%\n",
       "metric CP.3.c.i                            0.79%\n",
       "metric CP.3.d.i                            0.26%\n",
       "metric CP.3.d.ii                           1.72%\n",
       "metric CP.4.b.i     4.28 MJ/US$ PPP-adjusted GDP\n",
       "metric CP.4.d.i                              27%\n",
       "metric CP.4.e.i                              22%\n",
       "metric CP.6.a.i                             0.94\n",
       "metric CF.1.a.i                            0.02%\n",
       "metric CF.1.b.i                            0.02%\n",
       "metric CF.4.i            43.5 MW/US$ billion GDP\n",
       "metric CF.4.ii          88.42 MW/US$ billion GDP\n",
       "metric CF.4.iii             0 MW/US$ billion GDP\n",
       "metric CF.4.iv           8.42 MW/US$ billion GDP\n",
       "Name: 0, dtype: object"
      ]
     },
     "execution_count": 31,
     "metadata": {},
     "output_type": "execute_result"
    }
   ],
   "source": [
    "# Get a random data point\n",
    "data = df_assessments.iloc[0]\n",
    "\n",
    "data[selected_columns]"
   ]
  },
  {
   "cell_type": "markdown",
   "metadata": {},
   "source": [
    "How would the Metric object be constructed?"
   ]
  },
  {
   "cell_type": "code",
   "execution_count": 34,
   "metadata": {},
   "outputs": [
    {
     "data": {
      "text/plain": [
       "Metric(name='metric EP.2.a.i', value='-25%')"
      ]
     },
     "execution_count": 34,
     "metadata": {},
     "output_type": "execute_result"
    }
   ],
   "source": [
    "Metric(name=\"metric EP.2.a.i\", value=\"-25%\")"
   ]
  },
  {
   "cell_type": "code",
   "execution_count": 41,
   "metadata": {},
   "outputs": [
    {
     "data": {
      "text/plain": [
       "[Metric(name='metric EP.2.a.i', value=\"'-25%\"),\n",
       " Metric(name='metric EP.2.b.i', value='No or unsuitable disclosure'),\n",
       " Metric(name='metric EP.2.c.i', value='62%'),\n",
       " Metric(name='metric EP.2.d.i', value='822%'),\n",
       " Metric(name='metric EP.3.a.i', value='2050'),\n",
       " Metric(name='metric CP.2.b.i', value='28%'),\n",
       " Metric(name='metric CP.2.c.i', value='US$ 10.64/tCO₂e'),\n",
       " Metric(name='metric CP.3.a.i', value='No or unsuitable disclosure'),\n",
       " Metric(name='metric CP.3.b.i', value='0.34%'),\n",
       " Metric(name='metric CP.3.c.i', value='0.79%'),\n",
       " Metric(name='metric CP.3.d.i', value='0.26%'),\n",
       " Metric(name='metric CP.3.d.ii', value='1.72%'),\n",
       " Metric(name='metric CP.4.b.i', value='4.28 MJ/US$ PPP-adjusted GDP'),\n",
       " Metric(name='metric CP.4.d.i', value='27%'),\n",
       " Metric(name='metric CP.4.e.i', value='22%'),\n",
       " Metric(name='metric CP.6.a.i', value='0.94'),\n",
       " Metric(name='metric CF.1.a.i', value='0.02%'),\n",
       " Metric(name='metric CF.1.b.i', value='0.02%'),\n",
       " Metric(name='metric CF.4.i', value='43.5 MW/US$ billion GDP'),\n",
       " Metric(name='metric CF.4.ii', value='88.42 MW/US$ billion GDP'),\n",
       " Metric(name='metric CF.4.iii', value='0 MW/US$ billion GDP'),\n",
       " Metric(name='metric CF.4.iv', value='8.42 MW/US$ billion GDP')]"
      ]
     },
     "execution_count": 41,
     "metadata": {},
     "output_type": "execute_result"
    }
   ],
   "source": [
    "data_as_dict = data[selected_columns].to_dict()\n",
    "\n",
    "list_metrics = []\n",
    "for name, value in data_as_dict.items():\n",
    "    individual_metric = Metric(name=name, value=value)\n",
    "    list_metrics.append(individual_metric)\n",
    "\n",
    "list_metrics"
   ]
  },
  {
   "cell_type": "markdown",
   "metadata": {},
   "source": [
    "## Test the whole new function "
   ]
  },
  {
   "cell_type": "code",
   "execution_count": 48,
   "metadata": {},
   "outputs": [],
   "source": [
    "def get_country_metrics(country: str, assessment_year: int):\n",
    "\n",
    "    selected_row = (\n",
    "        (df_assessments[\"Country\"] == country) &\n",
    "        (df_assessments['Assessment date'].dt.year == assessment_year)\n",
    "    )\n",
    "\n",
    "    # Filter the data\n",
    "    data = df_assessments[selected_row]\n",
    "\n",
    "    if data.empty:\n",
    "        raise HTTPException(status_code=404, \n",
    "                            detail=f\"There is no data for country: {country} and year: {assessment_year}\")\n",
    "\n",
    "    # Select just the metrics\n",
    "    metric_columns = [col for col in df_assessments.columns \n",
    "                      if col.startswith('metric')]\n",
    "    data = data[metric_columns]\n",
    "\n",
    "    # JSON does not allow for NaN or NULL. \n",
    "    # The equivalent is just to leave an empty string instead\n",
    "    data = data.fillna('')\n",
    "\n",
    "    remap_area_column_names = {\n",
    "        col: col.replace('metric ', '')\n",
    "        for col in metric_columns\n",
    "    }\n",
    "\n",
    "    data = data.rename(columns=remap_area_column_names)\n",
    "\n",
    "    data_as_dict = data.iloc[0].to_dict()\n",
    "\n",
    "    list_metrics = []\n",
    "    for name, value in data_as_dict.items():\n",
    "        individual_metric = Metric(name=name, value=value)\n",
    "        list_metrics.append(individual_metric)\n",
    "    # Grab just the first element (there should only be one anyway)\n",
    "    # and return it as a dictionary\n",
    "    return list_metrics\n"
   ]
  },
  {
   "cell_type": "code",
   "execution_count": 49,
   "metadata": {},
   "outputs": [
    {
     "data": {
      "text/plain": [
       "[Metric(name='EP.2.a.i', value='-30%'),\n",
       " Metric(name='EP.2.b.i', value='0%'),\n",
       " Metric(name='EP.2.c.i', value='86%'),\n",
       " Metric(name='EP.2.d.i', value='317%'),\n",
       " Metric(name='EP.3.a.i', value='2050'),\n",
       " Metric(name='CP.2.b.i', value='33%'),\n",
       " Metric(name='CP.2.c.i', value='89.88 US$/tCO2e'),\n",
       " Metric(name='CP.3.a.i', value='2025'),\n",
       " Metric(name='CP.3.b.i', value='0.42%'),\n",
       " Metric(name='CP.3.c.i', value='0.00%'),\n",
       " Metric(name='CP.3.d.i', value='0.08%'),\n",
       " Metric(name='CP.3.d.ii', value='0.03%'),\n",
       " Metric(name='CP.4.b.i', value='2.30 MJ/PPP-adjusted GDP'),\n",
       " Metric(name='CP.4.d.i', value='46%'),\n",
       " Metric(name='CP.4.e.i', value='22%'),\n",
       " Metric(name='CP.6.a.i', value='83%'),\n",
       " Metric(name='CF.1.a.i', value='0.07%'),\n",
       " Metric(name='CF.1.b.i', value='0.13%'),\n",
       " Metric(name='CF.4.i', value='2.24 MW/US$ billion GDP'),\n",
       " Metric(name='CF.4.ii', value='20.56 MW/US$ billion GDP'),\n",
       " Metric(name='CF.4.iii', value='0.00 MW/US$ billion GDP'),\n",
       " Metric(name='CF.4.iv', value='0.12 MW/US$ billion GDP')]"
      ]
     },
     "execution_count": 49,
     "metadata": {},
     "output_type": "execute_result"
    }
   ],
   "source": [
    "get_country_metrics('Italy', 2024)"
   ]
  },
  {
   "cell_type": "markdown",
   "metadata": {},
   "source": [
    "## How to group together metrics with their relevant indicators?"
   ]
  },
  {
   "cell_type": "code",
   "execution_count": null,
   "metadata": {},
   "outputs": [],
   "source": [
    "indicator_columns = [col for col in df_assessments.columns in col.startswith('indicator ')]\n",
    "\n",
    "for indicator in indicator_columns:\n",
    "    # TODO: find the metric associated with this specific indicator\n",
    "    metric = [col for col in df_assessments.columns if ....]"
   ]
  }
 ],
 "metadata": {
  "kernelspec": {
   "display_name": "base",
   "language": "python",
   "name": "python3"
  },
  "language_info": {
   "codemirror_mode": {
    "name": "ipython",
    "version": 3
   },
   "file_extension": ".py",
   "mimetype": "text/x-python",
   "name": "python",
   "nbconvert_exporter": "python",
   "pygments_lexer": "ipython3",
   "version": "3.12.8"
  }
 },
 "nbformat": 4,
 "nbformat_minor": 2
}
