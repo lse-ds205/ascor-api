{
 "cells": [
  {
   "cell_type": "code",
   "execution_count": 1,
   "metadata": {},
   "outputs": [],
   "source": [
    "import pandas as pd\n"
   ]
  },
  {
   "cell_type": "code",
   "execution_count": 2,
   "metadata": {},
   "outputs": [
    {
     "name": "stderr",
     "output_type": "stream",
     "text": [
      "/var/folders/78/b2j3spl172n6y7p_sw2jggr40000gn/T/ipykernel_54457/989366931.py:5: UserWarning: Parsing dates in %d/%m/%Y format when dayfirst=False (the default) was specified. Pass `dayfirst=True` or specify a format to silence this warning.\n",
      "  df_assessments['Assessment date'] = pd.to_datetime(df_assessments['Assessment date'])\n"
     ]
    }
   ],
   "source": [
    "filepath = \"./data/TPI ASCOR data - 13012025/ASCOR_assessments_results.xlsx\"\n",
    "df_assessments = pd.read_excel(filepath)\n",
    "\n",
    "# Convert the date columns to datetime type so we can filter by year later\n",
    "df_assessments['Assessment date'] = pd.to_datetime(df_assessments['Assessment date'])\n",
    "df_assessments['Publication date'] = pd.to_datetime(df_assessments['Publication date'])"
   ]
  },
  {
   "cell_type": "code",
   "execution_count": 54,
   "metadata": {},
   "outputs": [],
   "source": [
    "country = \"United Kingdom\"\n",
    "assessment_year  = 2024\n",
    "\n",
    "country_assessment = df_assessments[df_assessments['Country']==country]\n",
    "if len(country_assessment) == 0:\n",
    "    print('a')\n",
    "\n",
    "country_year_assessment = country_assessment[country_assessment['Assessment date'].dt.year==assessment_year]\n",
    "if len(country_year_assessment) == 0:\n",
    "    print('b')\n",
    "if len(country_year_assessment) > 0:\n",
    "    country_year_assessment = country_year_assessment.head(1)\n"
   ]
  },
  {
   "cell_type": "code",
   "execution_count": 53,
   "metadata": {},
   "outputs": [
    {
     "data": {
      "text/plain": [
       "Id                                                                     22\n",
       "Assessment date                                       2024-08-23 00:00:00\n",
       "Publication date                                      2024-01-11 00:00:00\n",
       "Country Id                                                             22\n",
       "Country                                                    United Kingdom\n",
       "                                              ...                        \n",
       "year metric CF.4.i                                                   2024\n",
       "year metric CF.4.ii                                                  2024\n",
       "year metric CF.4.iii                                                 2024\n",
       "year metric CF.4.iv                                                  2024\n",
       "Notes                   Assessment results are based on in-depth polic...\n",
       "Name: 92, Length: 167, dtype: object"
      ]
     },
     "execution_count": 53,
     "metadata": {},
     "output_type": "execute_result"
    }
   ],
   "source": [
    "country_year_assessment"
   ]
  },
  {
   "cell_type": "code",
   "execution_count": 15,
   "metadata": {},
   "outputs": [
    {
     "data": {
      "text/plain": [
       "Index(['Id', 'Assessment date', 'Publication date', 'Country Id', 'Country',\n",
       "       'area EP.1', 'indicator EP.1.a', 'indicator EP.1.b', 'indicator EP.1.c',\n",
       "       'area EP.2',\n",
       "       ...\n",
       "       'year metric CP.4.d.i', 'year metric CP.4.e.i', 'year metric CP.6.a.i',\n",
       "       'year metric CF.1.a.i', 'year metric CF.1.b.i', 'year metric CF.4.i',\n",
       "       'year metric CF.4.ii', 'year metric CF.4.iii', 'year metric CF.4.iv',\n",
       "       'Notes'],\n",
       "      dtype='object', length=167)"
      ]
     },
     "execution_count": 15,
     "metadata": {},
     "output_type": "execute_result"
    }
   ],
   "source": [
    "country_df.columns"
   ]
  },
  {
   "cell_type": "code",
   "execution_count": 28,
   "metadata": {},
   "outputs": [],
   "source": [
    "l = [col for col in country_df.columns if \"area\" in col]"
   ]
  },
  {
   "cell_type": "code",
   "execution_count": 31,
   "metadata": {},
   "outputs": [],
   "source": [
    "rename_columns = dict(zip(l, [col_name.replace(\"area \",\"\") for col_name in l]))"
   ]
  },
  {
   "cell_type": "code",
   "execution_count": 34,
   "metadata": {},
   "outputs": [
    {
     "data": {
      "text/plain": [
       "{'area EP.1': 'EP.1',\n",
       " 'area EP.2': 'EP.2',\n",
       " 'area EP.3': 'EP.3',\n",
       " 'area CP.1': 'CP.1',\n",
       " 'area CP.2': 'CP.2',\n",
       " 'area CP.3': 'CP.3',\n",
       " 'area CP.4': 'CP.4',\n",
       " 'area CP.5': 'CP.5',\n",
       " 'area CP.6': 'CP.6',\n",
       " 'area CF.1': 'CF.1',\n",
       " 'area CF.2': 'CF.2',\n",
       " 'area CF.3': 'CF.3',\n",
       " 'area CF.4': 'CF.4',\n",
       " 'Country': 'country'}"
      ]
     },
     "execution_count": 34,
     "metadata": {},
     "output_type": "execute_result"
    }
   ],
   "source": [
    "rename_columns"
   ]
  }
 ],
 "metadata": {
  "kernelspec": {
   "display_name": "venv",
   "language": "python",
   "name": "python3"
  },
  "language_info": {
   "codemirror_mode": {
    "name": "ipython",
    "version": 3
   },
   "file_extension": ".py",
   "mimetype": "text/x-python",
   "name": "python",
   "nbconvert_exporter": "python",
   "pygments_lexer": "ipython3",
   "version": "3.9.13"
  }
 },
 "nbformat": 4,
 "nbformat_minor": 2
}
