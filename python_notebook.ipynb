{
 "cells": [
  {
   "cell_type": "code",
   "execution_count": 4,
   "metadata": {},
   "outputs": [],
   "source": [
    "#Imports\n",
    "import pandas as pd"
   ]
  },
  {
   "cell_type": "markdown",
   "metadata": {},
   "source": [
    "Reads the excel into dataframe"
   ]
  },
  {
   "cell_type": "code",
   "execution_count": null,
   "metadata": {},
   "outputs": [],
   "source": [
    "df_assessments = pd.read_excel(\"./data/TPI ASCOR data - 13012025/ASCOR_assessments_results.xlsx\")\n",
    "df_assessments['Assessment date'] = pd.to_datetime(df_assessments['Assessment date'])\n",
    "df_assessments['Publication date'] = pd.to_datetime(df_assessments['Publication date'])"
   ]
  },
  {
   "cell_type": "markdown",
   "metadata": {},
   "source": [
    "Select the Country and Assessment date columns"
   ]
  },
  {
   "cell_type": "code",
   "execution_count": null,
   "metadata": {},
   "outputs": [],
   "source": [
    "selected_row = (\n",
    "    (df_assessments[\"Country\"] == country) &\n",
    "    (df_assessments['Assessment date'].dt.year == assessment_year)\n",
    ")"
   ]
  },
  {
   "cell_type": "markdown",
   "metadata": {},
   "source": [
    "Example using United Kingdom in 2023"
   ]
  },
  {
   "cell_type": "code",
   "execution_count": 24,
   "metadata": {},
   "outputs": [
    {
     "data": {
      "text/html": [
       "<div>\n",
       "<style scoped>\n",
       "    .dataframe tbody tr th:only-of-type {\n",
       "        vertical-align: middle;\n",
       "    }\n",
       "\n",
       "    .dataframe tbody tr th {\n",
       "        vertical-align: top;\n",
       "    }\n",
       "\n",
       "    .dataframe thead th {\n",
       "        text-align: right;\n",
       "    }\n",
       "</style>\n",
       "<table border=\"1\" class=\"dataframe\">\n",
       "  <thead>\n",
       "    <tr style=\"text-align: right;\">\n",
       "      <th></th>\n",
       "      <th>Id</th>\n",
       "      <th>Assessment date</th>\n",
       "      <th>Publication date</th>\n",
       "      <th>Country Id</th>\n",
       "      <th>Country</th>\n",
       "      <th>area EP.1</th>\n",
       "      <th>indicator EP.1.a</th>\n",
       "      <th>indicator EP.1.b</th>\n",
       "      <th>indicator EP.1.c</th>\n",
       "      <th>area EP.2</th>\n",
       "      <th>...</th>\n",
       "      <th>year metric CP.4.d.i</th>\n",
       "      <th>year metric CP.4.e.i</th>\n",
       "      <th>year metric CP.6.a.i</th>\n",
       "      <th>year metric CF.1.a.i</th>\n",
       "      <th>year metric CF.1.b.i</th>\n",
       "      <th>year metric CF.4.i</th>\n",
       "      <th>year metric CF.4.ii</th>\n",
       "      <th>year metric CF.4.iii</th>\n",
       "      <th>year metric CF.4.iv</th>\n",
       "      <th>Notes</th>\n",
       "    </tr>\n",
       "  </thead>\n",
       "  <tbody>\n",
       "    <tr>\n",
       "      <th>22</th>\n",
       "      <td>86</td>\n",
       "      <td>2023-10-31</td>\n",
       "      <td>2023-01-12</td>\n",
       "      <td>22</td>\n",
       "      <td>United Kingdom</td>\n",
       "      <td>Partial</td>\n",
       "      <td>Yes</td>\n",
       "      <td>No</td>\n",
       "      <td>No</td>\n",
       "      <td>Partial</td>\n",
       "      <td>...</td>\n",
       "      <td>2021.0</td>\n",
       "      <td>2022.0</td>\n",
       "      <td>2021</td>\n",
       "      <td>2020.0</td>\n",
       "      <td>2021.0</td>\n",
       "      <td>2023</td>\n",
       "      <td>2023</td>\n",
       "      <td>2023</td>\n",
       "      <td>2023</td>\n",
       "      <td>Assessment results are based on in-depth polic...</td>\n",
       "    </tr>\n",
       "  </tbody>\n",
       "</table>\n",
       "<p>1 rows × 167 columns</p>\n",
       "</div>"
      ],
      "text/plain": [
       "    Id Assessment date Publication date  Country Id         Country area EP.1  \\\n",
       "22  86      2023-10-31       2023-01-12          22  United Kingdom   Partial   \n",
       "\n",
       "   indicator EP.1.a indicator EP.1.b indicator EP.1.c area EP.2  ...  \\\n",
       "22              Yes               No               No   Partial  ...   \n",
       "\n",
       "   year metric CP.4.d.i year metric CP.4.e.i year metric CP.6.a.i  \\\n",
       "22               2021.0               2022.0                 2021   \n",
       "\n",
       "   year metric CF.1.a.i year metric CF.1.b.i year metric CF.4.i  \\\n",
       "22               2020.0               2021.0               2023   \n",
       "\n",
       "   year metric CF.4.ii year metric CF.4.iii year metric CF.4.iv  \\\n",
       "22                2023                 2023                2023   \n",
       "\n",
       "                                                Notes  \n",
       "22  Assessment results are based on in-depth polic...  \n",
       "\n",
       "[1 rows x 167 columns]"
      ]
     },
     "execution_count": 24,
     "metadata": {},
     "output_type": "execute_result"
    }
   ],
   "source": [
    "country = 'United Kingdom'\n",
    "assessment_year = 2023\n",
    "\n",
    "# This returns a pd.Series of Trues and Falses\n",
    "selected_country = df_assessments[\"Country\"] == country\n",
    "selected_year    = df_assessments['Assessment date'].dt.year == assessment_year\n",
    "\n",
    "\n",
    "df_assessments[selected_country & selected_year]"
   ]
  },
  {
   "cell_type": "markdown",
   "metadata": {},
   "source": [
    "Sum of the previous steps and creates a funciton which retrieves the relevant data based on the country and assessment year inputs"
   ]
  },
  {
   "cell_type": "code",
   "execution_count": 25,
   "metadata": {},
   "outputs": [],
   "source": [
    "def get_country_data(country: str, assessment_year: int):\n",
    "\n",
    "    selected_row = (\n",
    "        (df_assessments[\"Country\"] == country) &\n",
    "        (df_assessments['Assessment date'].dt.year == assessment_year)\n",
    "    )\n",
    "\n",
    "    # Filter the data\n",
    "    data = df_assessments[selected_row]\n",
    "\n",
    "    # Selected and filter columns\n",
    "    area_columns = [col for col in df_assessments.columns if col.startswith(\"area\")]\n",
    "    data = data[area_columns]\n",
    "    \n",
    "    # JSON does not allow for NaN or NULL. \n",
    "    # The equivalent is just to leave an empty string instead\n",
    "    data = data.fillna('')\n",
    "\n",
    "    #Rename columns\n",
    "    data['country'] = country\n",
    "    data['assessment_year'] = assessment_year\n",
    "\n",
    "    remap_area_column_names = {\n",
    "        col: col.replace('area ', '')\n",
    "        for col in area_columns\n",
    "    }\n",
    "\n",
    "    data = data.rename(columns=remap_area_column_names)\n",
    "\n",
    "    # Grab just the first element (there should only be one anyway)\n",
    "    # and return it as a dictionary\n",
    "    return data.iloc[0].to_dict()"
   ]
  },
  {
   "cell_type": "code",
   "execution_count": 26,
   "metadata": {},
   "outputs": [
    {
     "data": {
      "text/plain": [
       "{'EP.1': 'Partial',\n",
       " 'EP.2': 'Partial',\n",
       " 'EP.3': 'Partial',\n",
       " 'CP.1': 'No',\n",
       " 'CP.2': 'Partial',\n",
       " 'CP.3': 'Partial',\n",
       " 'CP.4': 'Partial',\n",
       " 'CP.5': 'Partial',\n",
       " 'CP.6': 'Partial',\n",
       " 'CF.1': 'No',\n",
       " 'CF.2': 'Exempt',\n",
       " 'CF.3': 'Partial',\n",
       " 'CF.4': '',\n",
       " 'country': 'Italy',\n",
       " 'assessment_year': 2024}"
      ]
     },
     "execution_count": 26,
     "metadata": {},
     "output_type": "execute_result"
    }
   ],
   "source": [
    "get_country_data('Italy', 2024)"
   ]
  },
  {
   "cell_type": "markdown",
   "metadata": {},
   "source": [
    "# End of Week 2 Lab\n",
    "\n",
    "This is the answer to the Week 2 lab action."
   ]
  },
  {
   "cell_type": "code",
   "execution_count": 10,
   "metadata": {},
   "outputs": [],
   "source": [
    "from pydantic import BaseModel\n",
    "\n",
    "class CountryData(BaseModel):\n",
    "    country: str\n",
    "    assesment_year: int"
   ]
  },
  {
   "cell_type": "code",
   "execution_count": null,
   "metadata": {},
   "outputs": [],
   "source": [
    "\n",
    "output = CountryData(country=\"United Kingdom\", assesment_year=2024)\n",
    "\n",
    "output"
   ]
  },
  {
   "cell_type": "code",
   "execution_count": null,
   "metadata": {},
   "outputs": [],
   "source": [
    "output_dict = {\"country\": \"United Kingdom\", \"assesment_year\":2024}\n",
    "\n",
    "output_dict"
   ]
  },
  {
   "cell_type": "code",
   "execution_count": null,
   "metadata": {},
   "outputs": [],
   "source": [
    "CountryData(**output_dict)\n"
   ]
  },
  {
   "cell_type": "code",
   "execution_count": 14,
   "metadata": {},
   "outputs": [],
   "source": [
    "# This is the data model for Metrics\n",
    "class Metric(BaseModel):\n",
    "    name: str\n",
    "    value: str"
   ]
  },
  {
   "cell_type": "code",
   "execution_count": null,
   "metadata": {},
   "outputs": [],
   "source": [
    "# Filter for just the metrics columns\n",
    "selected_columns = [col for col in df_assessments.columns if col.startswith('metric')]\n",
    "selected_columns"
   ]
  },
  {
   "cell_type": "code",
   "execution_count": null,
   "metadata": {},
   "outputs": [],
   "source": [
    "# Get a random data point\n",
    "data = df_assessments.iloc[0]\n",
    "\n",
    "data[selected_columns]"
   ]
  },
  {
   "cell_type": "code",
   "execution_count": null,
   "metadata": {},
   "outputs": [],
   "source": [
    "Metric(name=\"metric EP.2.a.i\", value=\"-25%\")"
   ]
  },
  {
   "cell_type": "code",
   "execution_count": null,
   "metadata": {},
   "outputs": [],
   "source": [
    "data_as_dict = data[selected_columns].to_dict()\n",
    "\n",
    "list_metrics = []\n",
    "for name, value in data_as_dict.items():\n",
    "    individual_metric = Metric(name=name, value=value)\n",
    "    list_metrics.append(individual_metric)\n",
    "\n",
    "list_metrics"
   ]
  },
  {
   "cell_type": "code",
   "execution_count": 19,
   "metadata": {},
   "outputs": [],
   "source": [
    "def get_country_metrics(country: str, assessment_year: int):\n",
    "\n",
    "    selected_row = (\n",
    "        (df_assessments[\"Country\"] == country) &\n",
    "        (df_assessments['Assessment date'].dt.year == assessment_year)\n",
    "    )\n",
    "\n",
    "    # Filter the data\n",
    "    data = df_assessments[selected_row]\n",
    "\n",
    "    if data.empty:\n",
    "        raise HTTPException(status_code=404, \n",
    "                            detail=f\"There is no data for country: {country} and year: {assessment_year}\")\n",
    "\n",
    "    # Select just the metrics\n",
    "    metric_columns = [col for col in df_assessments.columns \n",
    "                      if col.startswith('metric')]\n",
    "    data = data[metric_columns]\n",
    "\n",
    "    # JSON does not allow for NaN or NULL. \n",
    "    # The equivalent is just to leave an empty string instead\n",
    "    data = data.fillna('')\n",
    "\n",
    "    remap_area_column_names = {\n",
    "        col: col.replace('metric ', '')\n",
    "        for col in metric_columns\n",
    "    }\n",
    "\n",
    "    data = data.rename(columns=remap_area_column_names)\n",
    "\n",
    "    data_as_dict = data.iloc[0].to_dict()\n",
    "\n",
    "    list_metrics = []\n",
    "    for name, value in data_as_dict.items():\n",
    "        individual_metric = Metric(name=name, value=value)\n",
    "        list_metrics.append(individual_metric)\n",
    "    # Grab just the first element (there should only be one anyway)\n",
    "    # and return it as a dictionary\n",
    "    return list_metrics"
   ]
  },
  {
   "cell_type": "code",
   "execution_count": null,
   "metadata": {},
   "outputs": [],
   "source": [
    "get_country_metrics('Italy', 2024)"
   ]
  },
  {
   "cell_type": "code",
   "execution_count": null,
   "metadata": {},
   "outputs": [],
   "source": [
    "indicator_columns = [col for col in df_assessments.columns in col.startswith('indicator ')]\n",
    "\n",
    "for indicator in indicator_columns:\n",
    "    # TODO: find the metric associated with this specific indicator\n",
    "    metric = [col for col in df_assessments.columns if ....]"
   ]
  }
 ],
 "metadata": {
  "kernelspec": {
   "display_name": "base",
   "language": "python",
   "name": "python3"
  },
  "language_info": {
   "codemirror_mode": {
    "name": "ipython",
    "version": 3
   },
   "file_extension": ".py",
   "mimetype": "text/x-python",
   "name": "python",
   "nbconvert_exporter": "python",
   "pygments_lexer": "ipython3",
   "version": "3.12.8"
  }
 },
 "nbformat": 4,
 "nbformat_minor": 2
}
