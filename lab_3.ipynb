{
 "cells": [
  {
   "cell_type": "code",
   "execution_count": 2,
   "metadata": {},
   "outputs": [],
   "source": [
    "import pandas as pd"
   ]
  },
  {
   "cell_type": "code",
   "execution_count": 3,
   "metadata": {},
   "outputs": [
    {
     "name": "stderr",
     "output_type": "stream",
     "text": [
      "/var/folders/3w/kl11tgh95_70kfy5tyt37p8w0000gn/T/ipykernel_71388/689650668.py:2: UserWarning: Parsing dates in %d/%m/%Y format when dayfirst=False (the default) was specified. Pass `dayfirst=True` or specify a format to silence this warning.\n",
      "  df_assessments['Assessment date'] = pd.to_datetime(df_assessments['Assessment date'])\n"
     ]
    }
   ],
   "source": [
    "df_assessments = pd.read_excel(\"./data/TPI ASCOR data - 13012025/ASCOR_assessments_results.xlsx\")\n",
    "df_assessments['Assessment date'] = pd.to_datetime(df_assessments['Assessment date'])\n",
    "df_assessments['Publication date'] = pd.to_datetime(df_assessments['Publication date'])"
   ]
  },
  {
   "cell_type": "code",
   "execution_count": 4,
   "metadata": {},
   "outputs": [
    {
     "data": {
      "text/html": [
       "<div>\n",
       "<style scoped>\n",
       "    .dataframe tbody tr th:only-of-type {\n",
       "        vertical-align: middle;\n",
       "    }\n",
       "\n",
       "    .dataframe tbody tr th {\n",
       "        vertical-align: top;\n",
       "    }\n",
       "\n",
       "    .dataframe thead th {\n",
       "        text-align: right;\n",
       "    }\n",
       "</style>\n",
       "<table border=\"1\" class=\"dataframe\">\n",
       "  <thead>\n",
       "    <tr style=\"text-align: right;\">\n",
       "      <th></th>\n",
       "      <th>Id</th>\n",
       "      <th>Assessment date</th>\n",
       "      <th>Publication date</th>\n",
       "      <th>Country Id</th>\n",
       "      <th>Country</th>\n",
       "      <th>area EP.1</th>\n",
       "      <th>indicator EP.1.a</th>\n",
       "      <th>indicator EP.1.b</th>\n",
       "      <th>indicator EP.1.c</th>\n",
       "      <th>area EP.2</th>\n",
       "      <th>...</th>\n",
       "      <th>year metric CP.4.d.i</th>\n",
       "      <th>year metric CP.4.e.i</th>\n",
       "      <th>year metric CP.6.a.i</th>\n",
       "      <th>year metric CF.1.a.i</th>\n",
       "      <th>year metric CF.1.b.i</th>\n",
       "      <th>year metric CF.4.i</th>\n",
       "      <th>year metric CF.4.ii</th>\n",
       "      <th>year metric CF.4.iii</th>\n",
       "      <th>year metric CF.4.iv</th>\n",
       "      <th>Notes</th>\n",
       "    </tr>\n",
       "  </thead>\n",
       "  <tbody>\n",
       "    <tr>\n",
       "      <th>22</th>\n",
       "      <td>86</td>\n",
       "      <td>2023-10-31</td>\n",
       "      <td>2023-01-12</td>\n",
       "      <td>22</td>\n",
       "      <td>United Kingdom</td>\n",
       "      <td>Partial</td>\n",
       "      <td>Yes</td>\n",
       "      <td>No</td>\n",
       "      <td>No</td>\n",
       "      <td>Partial</td>\n",
       "      <td>...</td>\n",
       "      <td>2021.0</td>\n",
       "      <td>2022.0</td>\n",
       "      <td>2021</td>\n",
       "      <td>2020.0</td>\n",
       "      <td>2021.0</td>\n",
       "      <td>2023</td>\n",
       "      <td>2023</td>\n",
       "      <td>2023</td>\n",
       "      <td>2023</td>\n",
       "      <td>Assessment results are based on in-depth polic...</td>\n",
       "    </tr>\n",
       "  </tbody>\n",
       "</table>\n",
       "<p>1 rows × 167 columns</p>\n",
       "</div>"
      ],
      "text/plain": [
       "    Id Assessment date Publication date  Country Id         Country area EP.1  \\\n",
       "22  86      2023-10-31       2023-01-12          22  United Kingdom   Partial   \n",
       "\n",
       "   indicator EP.1.a indicator EP.1.b indicator EP.1.c area EP.2  ...  \\\n",
       "22              Yes               No               No   Partial  ...   \n",
       "\n",
       "   year metric CP.4.d.i year metric CP.4.e.i year metric CP.6.a.i  \\\n",
       "22               2021.0               2022.0                 2021   \n",
       "\n",
       "   year metric CF.1.a.i year metric CF.1.b.i year metric CF.4.i  \\\n",
       "22               2020.0               2021.0               2023   \n",
       "\n",
       "   year metric CF.4.ii year metric CF.4.iii year metric CF.4.iv  \\\n",
       "22                2023                 2023                2023   \n",
       "\n",
       "                                                Notes  \n",
       "22  Assessment results are based on in-depth polic...  \n",
       "\n",
       "[1 rows x 167 columns]"
      ]
     },
     "execution_count": 4,
     "metadata": {},
     "output_type": "execute_result"
    }
   ],
   "source": [
    "country = 'United Kingdom'\n",
    "assessment_year = 2023\n",
    "\n",
    "selected_country = df_assessments[\"Country\"] == country\n",
    "selected_year    = df_assessments['Assessment date'].dt.year == assessment_year\n",
    "\n",
    "\n",
    "df_assessments[selected_country & selected_year]"
   ]
  },
  {
   "cell_type": "code",
   "execution_count": 5,
   "metadata": {},
   "outputs": [],
   "source": [
    "def get_country_data(country: str, assessment_year: int):\n",
    "\n",
    "    selected_row = (\n",
    "        (df_assessments['Country'] == country) &\n",
    "        (df_assessments['Assessment date'].dt.year == assessment_year)\n",
    "    )\n",
    "    \n",
    "    data = df_assessments[selected_row]\n",
    "\n",
    "    area_columns = [col for col in df_assessments.columns if col.startswith(\"area\")]\n",
    "    data = data[area_columns]\n",
    "\n",
    "    data = data.fillna('')\n",
    "\n",
    "    data['country'] = country\n",
    "    data['assessment_year'] = assessment_year\n",
    "\n",
    "    remap_area_column_names = {\n",
    "        col: col.replace('area ', '')\n",
    "        for col in area_columns\n",
    "    }\n",
    "    data = data.rename(columns=remap_area_column_names)\n",
    "\n",
    "    return data.iloc[0].to_dict()"
   ]
  },
  {
   "cell_type": "code",
   "execution_count": 6,
   "metadata": {},
   "outputs": [
    {
     "data": {
      "text/plain": [
       "{'EP.1': 'Partial',\n",
       " 'EP.2': 'Partial',\n",
       " 'EP.3': 'Partial',\n",
       " 'CP.1': 'No',\n",
       " 'CP.2': 'Partial',\n",
       " 'CP.3': 'Partial',\n",
       " 'CP.4': 'Partial',\n",
       " 'CP.5': 'Partial',\n",
       " 'CP.6': 'Partial',\n",
       " 'CF.1': 'No',\n",
       " 'CF.2': 'Exempt',\n",
       " 'CF.3': 'Partial',\n",
       " 'CF.4': '',\n",
       " 'country': 'Italy',\n",
       " 'assessment_year': 2024}"
      ]
     },
     "execution_count": 6,
     "metadata": {},
     "output_type": "execute_result"
    }
   ],
   "source": [
    "get_country_data('Italy', 2024)"
   ]
  }
 ],
 "metadata": {
  "kernelspec": {
   "display_name": "base",
   "language": "python",
   "name": "python3"
  },
  "language_info": {
   "codemirror_mode": {
    "name": "ipython",
    "version": 3
   },
   "file_extension": ".py",
   "mimetype": "text/x-python",
   "name": "python",
   "nbconvert_exporter": "python",
   "pygments_lexer": "ipython3",
   "version": "3.12.2"
  }
 },
 "nbformat": 4,
 "nbformat_minor": 2
}
