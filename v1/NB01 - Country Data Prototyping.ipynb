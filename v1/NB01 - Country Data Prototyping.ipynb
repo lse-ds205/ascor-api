{
 "cells": [
  {
   "cell_type": "markdown",
   "metadata": {},
   "source": [
    "**Objective:** Document my thought process as I develop the function for '/v1/country-data/' endpoint"
   ]
  },
  {
   "cell_type": "code",
   "execution_count": 10,
   "metadata": {},
   "outputs": [],
   "source": [
    "import pandas as pd\n",
    "import os\n"
   ]
  },
  {
   "cell_type": "markdown",
   "metadata": {},
   "source": [
    "# Read the data"
   ]
  },
  {
   "cell_type": "code",
   "execution_count": 13,
   "metadata": {},
   "outputs": [
    {
     "name": "stderr",
     "output_type": "stream",
     "text": [
      "C:\\Users\\kbhatia2\\AppData\\Local\\Temp\\ipykernel_7944\\1610718776.py:2: UserWarning: Parsing dates in %d/%m/%Y format when dayfirst=False (the default) was specified. Pass `dayfirst=True` or specify a format to silence this warning.\n",
      "  df_assessments['Assessment date'] = pd.to_datetime(df_assessments['Assessment date'])\n"
     ]
    }
   ],
   "source": [
    "df_assessments = pd.read_excel(r\"C:\\Users\\kbhatia2\\Desktop\\DS205\\ascor-api\\data\\TPI ASCOR data - 13012025\\ASCOR_assessments_results.xlsx\")\n",
    "df_assessments['Assessment date'] = pd.to_datetime(df_assessments['Assessment date'])\n",
    "df_assessments['Publication date'] = pd.to_datetime(df_assessments['Publication date'])\n"
   ]
  },
  {
   "cell_type": "markdown",
   "metadata": {},
   "source": [
    "# The function I am designing"
   ]
  },
  {
   "cell_type": "code",
   "execution_count": 25,
   "metadata": {},
   "outputs": [],
   "source": [
    "def get_country_data(country: str, assessment_year: int):\n",
    "\n",
    "    selected_row = (\n",
    "        (df_assessments[\"Country\"] == country) &\n",
    "        (df_assessments['Assessment date'].dt.year == assessment_year)\n",
    "    )\n",
    "\n",
    "    # Filter the data\n",
    "    data = df_assessments[selected_row]\n",
    "\n",
    "    if data.empty:\n",
    "        raise ValueError(\"There are no data points for the combination of: {country}, {assessment_year}\")\n",
    "\n",
    "    # Selected and filter columns\n",
    "    area_columns = [col for col in df_assessments.columns if col.startswith(\"area\")]\n",
    "    data = data[area_columns]\n",
    "    \n",
    "    # JSON does not allow for NaN or NULL. \n",
    "    # The equivalent is just to leave an empty string instead\n",
    "    data = data.fillna('')\n",
    "\n",
    "    #Rename columns\n",
    "    data['country'] = country\n",
    "    data['assessment_year'] = assessment_year\n",
    "\n",
    "    remap_area_column_names = {\n",
    "        col: col.replace('area ', '')\n",
    "        for col in area_columns\n",
    "    }\n",
    "\n",
    "    data = data.rename(columns=remap_area_column_names)\n",
    "\n",
    "    # Grab just the first element (there should only be one anyway)\n",
    "    # and return it as a dictionary\n",
    "    output_dict = data.iloc[0].to_dict()\n",
    "\n",
    "    return output_dict"
   ]
  },
  {
   "cell_type": "markdown",
   "metadata": {},
   "source": [
    "Test how the function behaves"
   ]
  },
  {
   "cell_type": "code",
   "execution_count": 27,
   "metadata": {},
   "outputs": [
    {
     "data": {
      "text/plain": [
       "{'EP.1': 'Partial',\n",
       " 'EP.2': 'Partial',\n",
       " 'EP.3': 'Partial',\n",
       " 'CP.1': 'No',\n",
       " 'CP.2': 'Partial',\n",
       " 'CP.3': 'Partial',\n",
       " 'CP.4': 'Partial',\n",
       " 'CP.5': 'Partial',\n",
       " 'CP.6': 'Partial',\n",
       " 'CF.1': 'No',\n",
       " 'CF.2': 'Exempt',\n",
       " 'CF.3': 'Partial',\n",
       " 'CF.4': '',\n",
       " 'country': 'Italy',\n",
       " 'assessment_year': 2024}"
      ]
     },
     "execution_count": 27,
     "metadata": {},
     "output_type": "execute_result"
    }
   ],
   "source": [
    "get_country_data('Italy', 2024)"
   ]
  },
  {
   "cell_type": "code",
   "execution_count": 28,
   "metadata": {},
   "outputs": [],
   "source": [
    "# Testing out pydantic models"
   ]
  },
  {
   "cell_type": "code",
   "execution_count": 29,
   "metadata": {},
   "outputs": [],
   "source": [
    "from pydantic import BaseModel\n",
    "class CountryData(BaseModel):\n",
    "    country: str\n",
    "    assessment_year: int"
   ]
  },
  {
   "cell_type": "markdown",
   "metadata": {},
   "source": [
    "In the end we want our APi to rpduce an **INstance** of the countrydata object like this:"
   ]
  },
  {
   "cell_type": "code",
   "execution_count": 31,
   "metadata": {},
   "outputs": [
    {
     "data": {
      "text/plain": [
       "CountryData(country='United Kingdom', assessment_year=2024)"
      ]
     },
     "execution_count": 31,
     "metadata": {},
     "output_type": "execute_result"
    }
   ],
   "source": [
    "output =CountryData(country=\"United Kingdom\", assessment_year=2024)\n",
    "\n",
    "output"
   ]
  },
  {
   "cell_type": "markdown",
   "metadata": {},
   "source": [
    "In reality all I have (usually) is a dict or list that looks like this"
   ]
  },
  {
   "cell_type": "code",
   "execution_count": 35,
   "metadata": {},
   "outputs": [
    {
     "data": {
      "text/plain": [
       "{'country': 'United Kingdom', 'assessment_year': 2024}"
      ]
     },
     "execution_count": 35,
     "metadata": {},
     "output_type": "execute_result"
    }
   ],
   "source": [
    "output_dict = {\"country\": \"United Kingdom\", \"assessment_year\": 2024}\n",
    "output_dict"
   ]
  },
  {
   "cell_type": "markdown",
   "metadata": {},
   "source": [
    "The ** operator allows to pass a dictionary to a class or a function so that each key becomes a parameter/argument"
   ]
  },
  {
   "cell_type": "code",
   "execution_count": 37,
   "metadata": {},
   "outputs": [
    {
     "data": {
      "text/plain": [
       "CountryData(country='United Kingdom', assessment_year=2024)"
      ]
     },
     "execution_count": 37,
     "metadata": {},
     "output_type": "execute_result"
    }
   ],
   "source": [
    "CountryData(**output_dict)"
   ]
  },
  {
   "cell_type": "markdown",
   "metadata": {},
   "source": [
    "# start working on the deeply hierarchical structure\n",
    "\n",
    "eventually I want to serve this\n",
    "{\n",
    "    \"pillars\": [\n",
    "    {\n",
    "        \"name\": \"EP\",\n",
    "        \"areas\": [\n",
    "            {\n",
    "                \"name\": \"EP.1\",\n",
    "                \"assessment\": \"Partial\",\n",
    "                \"indicators\": [\n",
    "                    {\n",
    "                        \"name\": \"EP.1.a\",\n",
    "                        \"assessment\": \"Yes\",\n",
    "                        \"metrics\": \"\"\n",
    "                    },\n",
    "                    ...\n",
    "                    {\n",
    "                        \"name\": \"EP.2.1\",\n",
    "                        \"assessment\": \"Yes\",\n",
    "                        \"metrics\": {\n",
    "                            \"name\": \"EP.2.a.1\",\n",
    "                            \"value\": \"-25%\"\n",
    "                        }\n",
    "                    }\n",
    "                ]\n",
    "            }\n",
    "        ]\n",
    "    },\n",
    "    {\n",
    "        \"name\": \"CP\",\n",
    "        \"areas\": [\n",
    "            {\n",
    "                \"name\": \"CP.1\",\n",
    "                \"assessment\": \"Partial\",\n",
    "                \"indicators\": [\n",
    "                    ...\n",
    "                ]\n",
    "            },\n",
    "            {\n",
    "                ...\n",
    "            }\n",
    "        ]\n",
    "    },\n",
    "    {\n",
    "        \"name\": \"CF\",\n",
    "        \"areas\": [\n",
    "            {\n",
    "                \"name\": \"CF.1\",\n",
    "                \"assessment\": \"Partial\",\n",
    "                \"indicators\": [\n",
    "                    ...\n",
    "                ]\n",
    "            },\n",
    "            {\n",
    "                ...\n",
    "            }\n",
    "        ]\n",
    "    }\n",
    "    ]\n",
    "}"
   ]
  },
  {
   "cell_type": "markdown",
   "metadata": {},
   "source": [
    "for now I will focus on the metric part`"
   ]
  },
  {
   "cell_type": "code",
   "execution_count": null,
   "metadata": {},
   "outputs": [],
   "source": []
  },
  {
   "cell_type": "code",
   "execution_count": 38,
   "metadata": {},
   "outputs": [],
   "source": [
    "# This is the data model for metrics\n",
    "class Metric(BaseModel):\n",
    "    name: str\n",
    "    value: str"
   ]
  },
  {
   "cell_type": "markdown",
   "metadata": {},
   "source": [
    "Before I actrually write the code to the api lrt me see how id have to filter the data"
   ]
  },
  {
   "cell_type": "code",
   "execution_count": 43,
   "metadata": {},
   "outputs": [
    {
     "data": {
      "text/plain": [
       "['metric EP.2.a.i',\n",
       " 'metric EP.2.b.i',\n",
       " 'metric EP.2.c.i',\n",
       " 'metric EP.2.d.i',\n",
       " 'metric EP.3.a.i',\n",
       " 'metric CP.2.b.i',\n",
       " 'metric CP.2.c.i',\n",
       " 'metric CP.3.a.i',\n",
       " 'metric CP.3.b.i',\n",
       " 'metric CP.3.c.i',\n",
       " 'metric CP.3.d.i',\n",
       " 'metric CP.3.d.ii',\n",
       " 'metric CP.4.b.i',\n",
       " 'metric CP.4.d.i',\n",
       " 'metric CP.4.e.i',\n",
       " 'metric CP.6.a.i',\n",
       " 'metric CF.1.a.i',\n",
       " 'metric CF.1.b.i',\n",
       " 'metric CF.4.i',\n",
       " 'metric CF.4.ii',\n",
       " 'metric CF.4.iii',\n",
       " 'metric CF.4.iv']"
      ]
     },
     "execution_count": 43,
     "metadata": {},
     "output_type": "execute_result"
    }
   ],
   "source": [
    "#Filter for just the metrics columns\n",
    "selected_columns = [col for col in df_assessments.columns if col.startswith('metric')]\n",
    "selected_columns"
   ]
  },
  {
   "cell_type": "markdown",
   "metadata": {},
   "source": [
    "filter dp to include only those columns"
   ]
  },
  {
   "cell_type": "code",
   "execution_count": 47,
   "metadata": {},
   "outputs": [
    {
     "data": {
      "text/plain": [
       "metric EP.2.a.i                            '-25%\n",
       "metric EP.2.b.i      No or unsuitable disclosure\n",
       "metric EP.2.c.i                              62%\n",
       "metric EP.2.d.i                             822%\n",
       "metric EP.3.a.i                             2050\n",
       "metric CP.2.b.i                              28%\n",
       "metric CP.2.c.i                  US$ 10.64/tCO₂e\n",
       "metric CP.3.a.i      No or unsuitable disclosure\n",
       "metric CP.3.b.i                            0.34%\n",
       "metric CP.3.c.i                            0.79%\n",
       "metric CP.3.d.i                            0.26%\n",
       "metric CP.3.d.ii                           1.72%\n",
       "metric CP.4.b.i     4.28 MJ/US$ PPP-adjusted GDP\n",
       "metric CP.4.d.i                              27%\n",
       "metric CP.4.e.i                              22%\n",
       "metric CP.6.a.i                             0.94\n",
       "metric CF.1.a.i                            0.02%\n",
       "metric CF.1.b.i                            0.02%\n",
       "metric CF.4.i            43.5 MW/US$ billion GDP\n",
       "metric CF.4.ii          88.42 MW/US$ billion GDP\n",
       "metric CF.4.iii             0 MW/US$ billion GDP\n",
       "metric CF.4.iv           8.42 MW/US$ billion GDP\n",
       "Name: 0, dtype: object"
      ]
     },
     "execution_count": 47,
     "metadata": {},
     "output_type": "execute_result"
    }
   ],
   "source": [
    "#Get a random data point\n",
    "data = df_assessments.iloc[0]\n",
    "data[selected_columns]"
   ]
  },
  {
   "cell_type": "markdown",
   "metadata": {},
   "source": [
    "How would the metric object be constructed"
   ]
  },
  {
   "cell_type": "code",
   "execution_count": 49,
   "metadata": {},
   "outputs": [
    {
     "data": {
      "text/plain": [
       "Metric(name='metric EP.2.a.i', value='-25%')"
      ]
     },
     "execution_count": 49,
     "metadata": {},
     "output_type": "execute_result"
    }
   ],
   "source": [
    "Metric(name = 'metric EP.2.a.i', value = '-25%')"
   ]
  },
  {
   "cell_type": "code",
   "execution_count": 55,
   "metadata": {},
   "outputs": [
    {
     "data": {
      "text/plain": [
       "[Metric(name='metric EP.2.a.i', value=\"'-25%\"),\n",
       " Metric(name='metric EP.2.b.i', value='No or unsuitable disclosure'),\n",
       " Metric(name='metric EP.2.c.i', value='62%'),\n",
       " Metric(name='metric EP.2.d.i', value='822%'),\n",
       " Metric(name='metric EP.3.a.i', value='2050'),\n",
       " Metric(name='metric CP.2.b.i', value='28%'),\n",
       " Metric(name='metric CP.2.c.i', value='US$ 10.64/tCO₂e'),\n",
       " Metric(name='metric CP.3.a.i', value='No or unsuitable disclosure'),\n",
       " Metric(name='metric CP.3.b.i', value='0.34%'),\n",
       " Metric(name='metric CP.3.c.i', value='0.79%'),\n",
       " Metric(name='metric CP.3.d.i', value='0.26%'),\n",
       " Metric(name='metric CP.3.d.ii', value='1.72%'),\n",
       " Metric(name='metric CP.4.b.i', value='4.28 MJ/US$ PPP-adjusted GDP'),\n",
       " Metric(name='metric CP.4.d.i', value='27%'),\n",
       " Metric(name='metric CP.4.e.i', value='22%'),\n",
       " Metric(name='metric CP.6.a.i', value='0.94'),\n",
       " Metric(name='metric CF.1.a.i', value='0.02%'),\n",
       " Metric(name='metric CF.1.b.i', value='0.02%'),\n",
       " Metric(name='metric CF.4.i', value='43.5 MW/US$ billion GDP'),\n",
       " Metric(name='metric CF.4.ii', value='88.42 MW/US$ billion GDP'),\n",
       " Metric(name='metric CF.4.iii', value='0 MW/US$ billion GDP'),\n",
       " Metric(name='metric CF.4.iv', value='8.42 MW/US$ billion GDP')]"
      ]
     },
     "execution_count": 55,
     "metadata": {},
     "output_type": "execute_result"
    }
   ],
   "source": [
    "data_as_dict = data [selected_columns].to_dict()\n",
    "\n",
    "list_metrics = []\n",
    "for name, value in data[selected_columns].to_dict().items():\n",
    "    list_metrics.append(Metric(name = name, value = value))\n",
    "\n",
    "list_metrics"
   ]
  },
  {
   "cell_type": "markdown",
   "metadata": {},
   "source": [
    "## How to group together metrics with their relevant indicators\n"
   ]
  },
  {
   "cell_type": "code",
   "execution_count": null,
   "metadata": {},
   "outputs": [],
   "source": [
    "indicator_columns = [col for col in df_assessments.columns if col.startswith('indicator')]\n",
    "\n",
    "for indicator in indicator_columns:\n",
    "   ##find the metric associated wit this epcific indicator\n",
    "   metric = [col for col in df_assessments.columns if col.startswith('metric') and indicator in col]"
   ]
  }
 ],
 "metadata": {
  "kernelspec": {
   "display_name": "Python 3",
   "language": "python",
   "name": "python3"
  },
  "language_info": {
   "codemirror_mode": {
    "name": "ipython",
    "version": 3
   },
   "file_extension": ".py",
   "mimetype": "text/x-python",
   "name": "python",
   "nbconvert_exporter": "python",
   "pygments_lexer": "ipython3",
   "version": "3.12.6"
  }
 },
 "nbformat": 4,
 "nbformat_minor": 2
}
