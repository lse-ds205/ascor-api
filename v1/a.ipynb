{
 "cells": [
  {
   "cell_type": "code",
   "execution_count": 66,
   "metadata": {},
   "outputs": [],
   "source": [
    "import os\n",
    "import pandas as pd\n",
    "\n",
    "from typing import List\n",
    "from fastapi import FastAPI, HTTPException\n",
    "from models import Metric, Indicator, Area, Pillar, ResponseData"
   ]
  },
  {
   "cell_type": "code",
   "execution_count": 15,
   "metadata": {},
   "outputs": [
    {
     "name": "stderr",
     "output_type": "stream",
     "text": [
      "/var/folders/78/b2j3spl172n6y7p_sw2jggr40000gn/T/ipykernel_11631/2763970276.py:5: UserWarning: Parsing dates in %d/%m/%Y format when dayfirst=False (the default) was specified. Pass `dayfirst=True` or specify a format to silence this warning.\n",
      "  df_assessments['Assessment date'] = pd.to_datetime(df_assessments['Assessment date'])\n"
     ]
    }
   ],
   "source": [
    "filepath = \"../data/TPI ASCOR data - 13012025/ASCOR_assessments_results.xlsx\"\n",
    "df_assessments = pd.read_excel(filepath)\n",
    "\n",
    "# Convert the date columns to datetime type so we can filter by year later\n",
    "df_assessments['Assessment date'] = pd.to_datetime(df_assessments['Assessment date'])\n",
    "df_assessments['Publication date'] = pd.to_datetime(df_assessments['Publication date'])"
   ]
  },
  {
   "cell_type": "code",
   "execution_count": 68,
   "metadata": {},
   "outputs": [
    {
     "name": "stdout",
     "output_type": "stream",
     "text": [
      "[Area(name='EP.1.a', assessment='Yes', indicators=[Indicator(name='EP.1.a', assessment='Yes', metrics=[], source=None)]), Area(name='EP.1.b', assessment='No', indicators=[Indicator(name='EP.1.b', assessment='No', metrics=[], source=None)]), Area(name='EP.1.c', assessment='No', indicators=[Indicator(name='EP.1.c', assessment='No', metrics=[], source=None)]), Area(name='EP.2.a', assessment='Yes', indicators=[Indicator(name='EP.2.a', assessment='Yes', metrics=[Metric(name='EP.2.a.i', value='-37%')], source=None)]), Area(name='EP.2.b', assessment='Yes', indicators=[Indicator(name='EP.2.b', assessment='Yes', metrics=[Metric(name='EP.2.b.i', value='0%')], source=None)]), Area(name='EP.2.c', assessment='No', indicators=[Indicator(name='EP.2.c', assessment='No', metrics=[Metric(name='EP.2.c.i', value='32%')], source=None)]), Area(name='EP.2.d', assessment='No', indicators=[Indicator(name='EP.2.d', assessment='No', metrics=[Metric(name='EP.2.d.i', value='248%')], source=None)]), Area(name='EP.3.a', assessment='Yes', indicators=[Indicator(name='EP.3.a', assessment='Yes', metrics=[Metric(name='EP.3.a.i', value='2050')], source=None)]), Area(name='EP.3.b', assessment='Yes', indicators=[Indicator(name='EP.3.b', assessment='Yes', metrics=[], source=None)]), Area(name='EP.3.c', assessment='No', indicators=[Indicator(name='EP.3.c', assessment='No', metrics=[], source=None)]), Area(name='CP.1.a', assessment='Yes', indicators=[Indicator(name='CP.1.a', assessment='Yes', metrics=[], source=None)]), Area(name='CP.1.b', assessment='Yes', indicators=[Indicator(name='CP.1.b', assessment='Yes', metrics=[], source=None)]), Area(name='CP.2.a', assessment='Yes', indicators=[Indicator(name='CP.2.a', assessment='Yes', metrics=[], source=None)]), Area(name='CP.2.b', assessment='Yes', indicators=[Indicator(name='CP.2.b', assessment='Yes', metrics=[Metric(name='CP.2.b.i', value='61%')], source=None)]), Area(name='CP.2.c', assessment='No', indicators=[Indicator(name='CP.2.c', assessment='No', metrics=[Metric(name='CP.2.c.i', value='50.32 US$/tCO2e')], source=None)]), Area(name='CP.3.a', assessment='No', indicators=[Indicator(name='CP.3.a', assessment='No', metrics=[Metric(name='CP.3.a.i', value='No or unsuitable disclosure')], source=None)]), Area(name='CP.3.b', assessment='Yes', indicators=[Indicator(name='CP.3.b', assessment='Yes', metrics=[Metric(name='CP.3.b.i', value='0.58%')], source=None)]), Area(name='CP.3.c', assessment='Yes', indicators=[Indicator(name='CP.3.c', assessment='Yes', metrics=[Metric(name='CP.3.c.i', value='0.00%')], source=None)]), Area(name='CP.3.d', assessment='Yes', indicators=[Indicator(name='CP.3.d', assessment='Yes', metrics=[Metric(name='CP.3.d.i', value='0.01%'), Metric(name='CP.3.d.ii', value='0.00%')], source=None)]), Area(name='CP.4.a', assessment='Yes', indicators=[Indicator(name='CP.4.a', assessment='Yes', metrics=[], source=None)]), Area(name='CP.4.b', assessment='Yes', indicators=[Indicator(name='CP.4.b', assessment='Yes', metrics=[Metric(name='CP.4.b.i', value='2.83 MJ/PPP-adjusted GDP')], source=None)]), Area(name='CP.4.c', assessment='Yes', indicators=[Indicator(name='CP.4.c', assessment='Yes', metrics=[], source=None)]), Area(name='CP.4.d', assessment='No', indicators=[Indicator(name='CP.4.d', assessment='No', metrics=[Metric(name='CP.4.d.i', value='92%')], source=None)]), Area(name='CP.4.e', assessment='Yes', indicators=[Indicator(name='CP.4.e', assessment='Yes', metrics=[Metric(name='CP.4.e.i', value='28%')], source=None)]), Area(name='CP.5.a', assessment='Yes', indicators=[Indicator(name='CP.5.a', assessment='Yes', metrics=[], source=None)]), Area(name='CP.5.b', assessment='Yes', indicators=[Indicator(name='CP.5.b', assessment='Yes', metrics=[], source=None)]), Area(name='CP.5.c', assessment='Yes', indicators=[Indicator(name='CP.5.c', assessment='Yes', metrics=[], source=None)]), Area(name='CP.5.d', assessment='Yes', indicators=[Indicator(name='CP.5.d', assessment='Yes', metrics=[], source=None)]), Area(name='CP.5.e', assessment='Exempt', indicators=[Indicator(name='CP.5.e', assessment='Exempt', metrics=[], source=None)]), Area(name='CP.6.a', assessment='No', indicators=[Indicator(name='CP.6.a', assessment='No', metrics=[Metric(name='CP.6.a.i', value='86%')], source=None)]), Area(name='CP.6.b', assessment='Yes', indicators=[Indicator(name='CP.6.b', assessment='Yes', metrics=[], source=None)]), Area(name='CP.6.c', assessment='No', indicators=[Indicator(name='CP.6.c', assessment='No', metrics=[], source=None)]), Area(name='CP.6.d', assessment='Yes', indicators=[Indicator(name='CP.6.d', assessment='Yes', metrics=[], source=None)]), Area(name='CF.1.a', assessment='Yes', indicators=[Indicator(name='CF.1.a', assessment='Yes', metrics=[Metric(name='CF.1.a.i', value='0.27%')], source=None)]), Area(name='CF.1.b', assessment='Yes', indicators=[Indicator(name='CF.1.b', assessment='Yes', metrics=[Metric(name='CF.1.b.i', value='0.26%')], source=None)]), Area(name='CF.2.a', assessment='Exempt', indicators=[Indicator(name='CF.2.a', assessment='Exempt', metrics=[], source=None)]), Area(name='CF.2.b', assessment='Exempt', indicators=[Indicator(name='CF.2.b', assessment='Exempt', metrics=[], source=None)]), Area(name='CF.3.a', assessment='Yes', indicators=[Indicator(name='CF.3.a', assessment='Yes', metrics=[], source=None)]), Area(name='CF.3.b', assessment='Yes', indicators=[Indicator(name='CF.3.b', assessment='Yes', metrics=[], source=None)])]\n",
      "3\n"
     ]
    }
   ],
   "source": [
    "country = \"France\"\n",
    "assessment_year = 2024\n",
    "\n",
    "selected_row = (\n",
    "        (df_assessments[\"Country\"] == country) &\n",
    "        (df_assessments['Assessment date'].dt.year == assessment_year)\n",
    "    )\n",
    "\n",
    "# Filter the data\n",
    "data = df_assessments[selected_row]\n",
    "\n",
    "if data.empty:\n",
    "    raise HTTPException(status_code=404, \n",
    "                        detail=f\"There is no data for country: {country} and year: {assessment_year}\")\n",
    "\n",
    "\n",
    "'''\n",
    "--------- Metrics\n",
    "'''\n",
    "# Select just the metrics\n",
    "metric_columns = [col for col in df_assessments.columns \n",
    "                    if col.startswith('metric')]\n",
    "metric_data = data[metric_columns]\n",
    "\n",
    "# JSON does not allow for NaN or NULL. \n",
    "# The equivalent is just to leave an empty string instead\n",
    "metric_data = metric_data.fillna('')\n",
    "\n",
    "remap_area_column_names = {\n",
    "    col: col.replace('metric ', '')\n",
    "    for col in metric_columns\n",
    "}\n",
    "\n",
    "metric_data = metric_data.rename(columns=remap_area_column_names)\n",
    "\n",
    "metric_data_as_dict = metric_data.iloc[0].to_dict()\n",
    "\n",
    "list_metrics = []\n",
    "for name, value in metric_data_as_dict.items():\n",
    "    individual_metric = Metric(name=name, value=value)\n",
    "    list_metrics.append(individual_metric)\n",
    "# Grab just the first element (there should only be one anyway)\n",
    "# and return it as a dictionary\n",
    "\n",
    "'''\n",
    "--------- Indicators\n",
    "'''\n",
    "indicator_columns = [col for col in df_assessments.columns \n",
    "                    if col.startswith('indicator')]\n",
    "indicator_data = data[indicator_columns]\n",
    "\n",
    "indicator_data = indicator_data.fillna('')\n",
    "remap_area_column_names = {\n",
    "    col: col.replace('indicator ', '')\n",
    "    for col in indicator_columns\n",
    "}\n",
    "indicator_data = indicator_data.rename(columns=remap_area_column_names)\n",
    "indicator_data_as_dict = indicator_data.iloc[0].to_dict()\n",
    "list_indicators = []\n",
    "for indicator_name, indicator_value in indicator_data_as_dict.items():\n",
    "    metrics = [metric for metric in list_metrics if indicator_name in metric.name]\n",
    "    individual_indicator = Indicator(name = indicator_name, assessment=indicator_value, metrics = metrics)\n",
    "    list_indicators.append(individual_indicator)\n",
    "\n",
    "'''\n",
    "------ Areas\n",
    "'''\n",
    "area_columns = [col for col in df_assessments.columns \n",
    "                    if col.startswith('area')]\n",
    "area_data = data[area_columns]\n",
    "\n",
    "area_data = area_data.fillna('')\n",
    "remap_area_column_names = {\n",
    "    col: col.replace('area ', '')\n",
    "    for col in area_columns\n",
    "}\n",
    "area_data = indicator_data.rename(columns=remap_area_column_names)\n",
    "area_data_as_dict = area_data.iloc[0].to_dict()\n",
    "list_areas = []\n",
    "for area_name, area_value in area_data_as_dict.items():\n",
    "    indicators = [indicator for indicator in list_indicators if area_name in indicator.name]\n",
    "    individual_area = Area(name = area_name, assessment=area_value, indicators= indicators)\n",
    "    list_areas.append(individual_area)\n",
    "print(list_areas)\n",
    "\n",
    "'''\n",
    "----- Pillars\n",
    "'''\n",
    "list_pillars = []\n",
    "for pillar in [\"EP\", \"CP\", \"CF\"]:\n",
    "    areas = [area for area in list_areas if pillar in area.name]\n",
    "    individual_pillar = Pillar(name=pillar, areas=areas)\n",
    "    list_pillars.append(individual_pillar)\n",
    "\n",
    "metadata = Metadata(country=country, assessment_year=assessment_year)\n",
    "resp = ResponseData(metadata=metadata, pillars=list_pillars)\n",
    "return resp\n",
    "\n"
   ]
  }
 ],
 "metadata": {
  "kernelspec": {
   "display_name": "base",
   "language": "python",
   "name": "python3"
  },
  "language_info": {
   "codemirror_mode": {
    "name": "ipython",
    "version": 3
   },
   "file_extension": ".py",
   "mimetype": "text/x-python",
   "name": "python",
   "nbconvert_exporter": "python",
   "pygments_lexer": "ipython3",
   "version": "3.9.13"
  }
 },
 "nbformat": 4,
 "nbformat_minor": 2
}
