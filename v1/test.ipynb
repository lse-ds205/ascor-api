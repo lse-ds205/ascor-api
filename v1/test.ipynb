{
 "cells": [
  {
   "cell_type": "code",
   "execution_count": null,
   "metadata": {},
   "outputs": [],
   "source": [
    "    output = CountryData(country=output_dict['country'],\n",
    "        assessment_year=output_dict['assessment_year'],\n",
    "        EP_1=output_dict['EP.1'],\n",
    "        EP_2=output_dict['EP.2'],\n",
    "        EP_3=output_dict['EP.3'],\n",
    "        CP_1=output_dict['CP.1'],\n",
    "        CP_2=output_dict['CP.2'],\n",
    "        CP_3=output_dict['CP.3'],\n",
    "        CP_4=output_dict['CP.4'],\n",
    "        CP_5=output_dict['CP.5'],\n",
    "        CP_6=output_dict['CP.6'],\n",
    "        CF_1=output_dict['CF.1'],\n",
    "        CF_2=output_dict['CF.2'],\n",
    "        CF_3=output_dict['CF.3'],\n",
    "        CF_4=output_dict['CF.4'])"
   ]
  }
 ],
 "metadata": {
  "language_info": {
   "name": "python"
  }
 },
 "nbformat": 4,
 "nbformat_minor": 2
}
